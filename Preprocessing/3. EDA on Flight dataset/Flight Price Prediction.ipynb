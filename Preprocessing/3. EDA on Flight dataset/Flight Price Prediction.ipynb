{
 "cells": [
  {
   "cell_type": "markdown",
   "id": "c681b4eb",
   "metadata": {},
   "source": [
    "## Flight Price Prediction (EDA and Feature Engineering )"
   ]
  },
  {
   "cell_type": "code",
   "execution_count": 61,
   "id": "ceaca10b",
   "metadata": {},
   "outputs": [],
   "source": [
    "import pandas as pd\n",
    "import numpy as np\n",
    "import matplotlib.pyplot as plt\n",
    "import seaborn as sns\n",
    "%matplotlib inline"
   ]
  },
  {
   "cell_type": "markdown",
   "id": "0189ff18",
   "metadata": {},
   "source": [
    "##### Feature Engineering"
   ]
  },
  {
   "cell_type": "code",
   "execution_count": 220,
   "id": "03959047",
   "metadata": {},
   "outputs": [],
   "source": [
    "df_train=pd.read_excel(\"Data_Train.xlsx\")"
   ]
  },
  {
   "cell_type": "code",
   "execution_count": 221,
   "id": "285cfcb4",
   "metadata": {},
   "outputs": [
    {
     "data": {
      "text/html": [
       "<div>\n",
       "<style scoped>\n",
       "    .dataframe tbody tr th:only-of-type {\n",
       "        vertical-align: middle;\n",
       "    }\n",
       "\n",
       "    .dataframe tbody tr th {\n",
       "        vertical-align: top;\n",
       "    }\n",
       "\n",
       "    .dataframe thead th {\n",
       "        text-align: right;\n",
       "    }\n",
       "</style>\n",
       "<table border=\"1\" class=\"dataframe\">\n",
       "  <thead>\n",
       "    <tr style=\"text-align: right;\">\n",
       "      <th></th>\n",
       "      <th>Airline</th>\n",
       "      <th>Date_of_Journey</th>\n",
       "      <th>Source</th>\n",
       "      <th>Destination</th>\n",
       "      <th>Route</th>\n",
       "      <th>Dep_Time</th>\n",
       "      <th>Arrival_Time</th>\n",
       "      <th>Duration</th>\n",
       "      <th>Total_Stops</th>\n",
       "      <th>Additional_Info</th>\n",
       "      <th>Price</th>\n",
       "    </tr>\n",
       "  </thead>\n",
       "  <tbody>\n",
       "    <tr>\n",
       "      <th>7931</th>\n",
       "      <td>SpiceJet</td>\n",
       "      <td>15/03/2019</td>\n",
       "      <td>Mumbai</td>\n",
       "      <td>Hyderabad</td>\n",
       "      <td>BOM → HYD</td>\n",
       "      <td>22:45</td>\n",
       "      <td>00:10 16 Mar</td>\n",
       "      <td>1h 25m</td>\n",
       "      <td>non-stop</td>\n",
       "      <td>No info</td>\n",
       "      <td>2753</td>\n",
       "    </tr>\n",
       "    <tr>\n",
       "      <th>10062</th>\n",
       "      <td>Jet Airways</td>\n",
       "      <td>15/06/2019</td>\n",
       "      <td>Delhi</td>\n",
       "      <td>Cochin</td>\n",
       "      <td>DEL → JDH → BOM → COK</td>\n",
       "      <td>11:40</td>\n",
       "      <td>19:00</td>\n",
       "      <td>7h 20m</td>\n",
       "      <td>2 stops</td>\n",
       "      <td>No info</td>\n",
       "      <td>18804</td>\n",
       "    </tr>\n",
       "    <tr>\n",
       "      <th>3355</th>\n",
       "      <td>IndiGo</td>\n",
       "      <td>6/05/2019</td>\n",
       "      <td>Kolkata</td>\n",
       "      <td>Banglore</td>\n",
       "      <td>CCU → PAT → BLR</td>\n",
       "      <td>09:20</td>\n",
       "      <td>14:15</td>\n",
       "      <td>4h 55m</td>\n",
       "      <td>1 stop</td>\n",
       "      <td>No info</td>\n",
       "      <td>11319</td>\n",
       "    </tr>\n",
       "    <tr>\n",
       "      <th>9257</th>\n",
       "      <td>Jet Airways</td>\n",
       "      <td>27/06/2019</td>\n",
       "      <td>Mumbai</td>\n",
       "      <td>Hyderabad</td>\n",
       "      <td>BOM → HYD</td>\n",
       "      <td>02:55</td>\n",
       "      <td>04:20</td>\n",
       "      <td>1h 25m</td>\n",
       "      <td>non-stop</td>\n",
       "      <td>In-flight meal not included</td>\n",
       "      <td>3210</td>\n",
       "    </tr>\n",
       "    <tr>\n",
       "      <th>6603</th>\n",
       "      <td>Air Asia</td>\n",
       "      <td>9/05/2019</td>\n",
       "      <td>Delhi</td>\n",
       "      <td>Cochin</td>\n",
       "      <td>DEL → BLR → COK</td>\n",
       "      <td>20:45</td>\n",
       "      <td>07:10 10 May</td>\n",
       "      <td>10h 25m</td>\n",
       "      <td>1 stop</td>\n",
       "      <td>No info</td>\n",
       "      <td>6751</td>\n",
       "    </tr>\n",
       "  </tbody>\n",
       "</table>\n",
       "</div>"
      ],
      "text/plain": [
       "           Airline Date_of_Journey   Source Destination  \\\n",
       "7931      SpiceJet      15/03/2019   Mumbai   Hyderabad   \n",
       "10062  Jet Airways      15/06/2019    Delhi      Cochin   \n",
       "3355        IndiGo       6/05/2019  Kolkata    Banglore   \n",
       "9257   Jet Airways      27/06/2019   Mumbai   Hyderabad   \n",
       "6603      Air Asia       9/05/2019    Delhi      Cochin   \n",
       "\n",
       "                       Route Dep_Time  Arrival_Time Duration Total_Stops  \\\n",
       "7931               BOM → HYD    22:45  00:10 16 Mar   1h 25m    non-stop   \n",
       "10062  DEL → JDH → BOM → COK    11:40         19:00   7h 20m     2 stops   \n",
       "3355         CCU → PAT → BLR    09:20         14:15   4h 55m      1 stop   \n",
       "9257               BOM → HYD    02:55         04:20   1h 25m    non-stop   \n",
       "6603         DEL → BLR → COK    20:45  07:10 10 May  10h 25m      1 stop   \n",
       "\n",
       "                   Additional_Info  Price  \n",
       "7931                       No info   2753  \n",
       "10062                      No info  18804  \n",
       "3355                       No info  11319  \n",
       "9257   In-flight meal not included   3210  \n",
       "6603                       No info   6751  "
      ]
     },
     "execution_count": 221,
     "metadata": {},
     "output_type": "execute_result"
    }
   ],
   "source": [
    "df_train.sample(5)"
   ]
  },
  {
   "cell_type": "code",
   "execution_count": 222,
   "id": "519226c4",
   "metadata": {},
   "outputs": [
    {
     "name": "stdout",
     "output_type": "stream",
     "text": [
      "<class 'pandas.core.frame.DataFrame'>\n",
      "RangeIndex: 10683 entries, 0 to 10682\n",
      "Data columns (total 11 columns):\n",
      " #   Column           Non-Null Count  Dtype \n",
      "---  ------           --------------  ----- \n",
      " 0   Airline          10683 non-null  object\n",
      " 1   Date_of_Journey  10683 non-null  object\n",
      " 2   Source           10683 non-null  object\n",
      " 3   Destination      10683 non-null  object\n",
      " 4   Route            10682 non-null  object\n",
      " 5   Dep_Time         10683 non-null  object\n",
      " 6   Arrival_Time     10683 non-null  object\n",
      " 7   Duration         10683 non-null  object\n",
      " 8   Total_Stops      10682 non-null  object\n",
      " 9   Additional_Info  10683 non-null  object\n",
      " 10  Price            10683 non-null  int64 \n",
      "dtypes: int64(1), object(10)\n",
      "memory usage: 918.2+ KB\n"
     ]
    }
   ],
   "source": [
    "df_train.info()"
   ]
  },
  {
   "cell_type": "code",
   "execution_count": 223,
   "id": "70e69154",
   "metadata": {},
   "outputs": [],
   "source": [
    "df_test=pd.read_excel(\"Test_set.xlsx\")"
   ]
  },
  {
   "cell_type": "code",
   "execution_count": 224,
   "id": "f58de1bd",
   "metadata": {},
   "outputs": [
    {
     "data": {
      "text/html": [
       "<div>\n",
       "<style scoped>\n",
       "    .dataframe tbody tr th:only-of-type {\n",
       "        vertical-align: middle;\n",
       "    }\n",
       "\n",
       "    .dataframe tbody tr th {\n",
       "        vertical-align: top;\n",
       "    }\n",
       "\n",
       "    .dataframe thead th {\n",
       "        text-align: right;\n",
       "    }\n",
       "</style>\n",
       "<table border=\"1\" class=\"dataframe\">\n",
       "  <thead>\n",
       "    <tr style=\"text-align: right;\">\n",
       "      <th></th>\n",
       "      <th>Airline</th>\n",
       "      <th>Date_of_Journey</th>\n",
       "      <th>Source</th>\n",
       "      <th>Destination</th>\n",
       "      <th>Route</th>\n",
       "      <th>Dep_Time</th>\n",
       "      <th>Arrival_Time</th>\n",
       "      <th>Duration</th>\n",
       "      <th>Total_Stops</th>\n",
       "      <th>Additional_Info</th>\n",
       "    </tr>\n",
       "  </thead>\n",
       "  <tbody>\n",
       "    <tr>\n",
       "      <th>2494</th>\n",
       "      <td>Air India</td>\n",
       "      <td>12/06/2019</td>\n",
       "      <td>Kolkata</td>\n",
       "      <td>Banglore</td>\n",
       "      <td>CCU → IXR → DEL → BLR</td>\n",
       "      <td>05:50</td>\n",
       "      <td>12:30 13 Jun</td>\n",
       "      <td>30h 40m</td>\n",
       "      <td>2 stops</td>\n",
       "      <td>No info</td>\n",
       "    </tr>\n",
       "    <tr>\n",
       "      <th>938</th>\n",
       "      <td>IndiGo</td>\n",
       "      <td>9/05/2019</td>\n",
       "      <td>Delhi</td>\n",
       "      <td>Cochin</td>\n",
       "      <td>DEL → BOM → COK</td>\n",
       "      <td>16:00</td>\n",
       "      <td>21:00</td>\n",
       "      <td>5h</td>\n",
       "      <td>1 stop</td>\n",
       "      <td>No info</td>\n",
       "    </tr>\n",
       "    <tr>\n",
       "      <th>2045</th>\n",
       "      <td>Multiple carriers</td>\n",
       "      <td>27/05/2019</td>\n",
       "      <td>Delhi</td>\n",
       "      <td>Cochin</td>\n",
       "      <td>DEL → BOM → COK</td>\n",
       "      <td>12:50</td>\n",
       "      <td>19:15</td>\n",
       "      <td>6h 25m</td>\n",
       "      <td>1 stop</td>\n",
       "      <td>No info</td>\n",
       "    </tr>\n",
       "    <tr>\n",
       "      <th>446</th>\n",
       "      <td>Jet Airways</td>\n",
       "      <td>27/06/2019</td>\n",
       "      <td>Delhi</td>\n",
       "      <td>Cochin</td>\n",
       "      <td>DEL → JAI → BOM → COK</td>\n",
       "      <td>09:40</td>\n",
       "      <td>12:35 28 Jun</td>\n",
       "      <td>26h 55m</td>\n",
       "      <td>2 stops</td>\n",
       "      <td>No info</td>\n",
       "    </tr>\n",
       "    <tr>\n",
       "      <th>1010</th>\n",
       "      <td>Jet Airways</td>\n",
       "      <td>1/06/2019</td>\n",
       "      <td>Banglore</td>\n",
       "      <td>Delhi</td>\n",
       "      <td>BLR → DEL</td>\n",
       "      <td>11:10</td>\n",
       "      <td>14:05</td>\n",
       "      <td>2h 55m</td>\n",
       "      <td>non-stop</td>\n",
       "      <td>No info</td>\n",
       "    </tr>\n",
       "  </tbody>\n",
       "</table>\n",
       "</div>"
      ],
      "text/plain": [
       "                Airline Date_of_Journey    Source Destination  \\\n",
       "2494          Air India      12/06/2019   Kolkata    Banglore   \n",
       "938              IndiGo       9/05/2019     Delhi      Cochin   \n",
       "2045  Multiple carriers      27/05/2019     Delhi      Cochin   \n",
       "446         Jet Airways      27/06/2019     Delhi      Cochin   \n",
       "1010        Jet Airways       1/06/2019  Banglore       Delhi   \n",
       "\n",
       "                      Route Dep_Time  Arrival_Time Duration Total_Stops  \\\n",
       "2494  CCU → IXR → DEL → BLR    05:50  12:30 13 Jun  30h 40m     2 stops   \n",
       "938         DEL → BOM → COK    16:00         21:00       5h      1 stop   \n",
       "2045        DEL → BOM → COK    12:50         19:15   6h 25m      1 stop   \n",
       "446   DEL → JAI → BOM → COK    09:40  12:35 28 Jun  26h 55m     2 stops   \n",
       "1010              BLR → DEL    11:10         14:05   2h 55m    non-stop   \n",
       "\n",
       "     Additional_Info  \n",
       "2494         No info  \n",
       "938          No info  \n",
       "2045         No info  \n",
       "446          No info  \n",
       "1010         No info  "
      ]
     },
     "execution_count": 224,
     "metadata": {},
     "output_type": "execute_result"
    }
   ],
   "source": [
    "df_test.sample(5)"
   ]
  },
  {
   "cell_type": "markdown",
   "id": "ef8d6f76",
   "metadata": {},
   "source": [
    "#### Merging both train and test"
   ]
  },
  {
   "cell_type": "code",
   "execution_count": 225,
   "id": "01d21aa0",
   "metadata": {},
   "outputs": [],
   "source": [
    "df=df_train.append(df_test,ignore_index=True)"
   ]
  },
  {
   "cell_type": "code",
   "execution_count": 226,
   "id": "b36abad6",
   "metadata": {},
   "outputs": [
    {
     "data": {
      "text/html": [
       "<div>\n",
       "<style scoped>\n",
       "    .dataframe tbody tr th:only-of-type {\n",
       "        vertical-align: middle;\n",
       "    }\n",
       "\n",
       "    .dataframe tbody tr th {\n",
       "        vertical-align: top;\n",
       "    }\n",
       "\n",
       "    .dataframe thead th {\n",
       "        text-align: right;\n",
       "    }\n",
       "</style>\n",
       "<table border=\"1\" class=\"dataframe\">\n",
       "  <thead>\n",
       "    <tr style=\"text-align: right;\">\n",
       "      <th></th>\n",
       "      <th>Airline</th>\n",
       "      <th>Date_of_Journey</th>\n",
       "      <th>Source</th>\n",
       "      <th>Destination</th>\n",
       "      <th>Route</th>\n",
       "      <th>Dep_Time</th>\n",
       "      <th>Arrival_Time</th>\n",
       "      <th>Duration</th>\n",
       "      <th>Total_Stops</th>\n",
       "      <th>Additional_Info</th>\n",
       "      <th>Price</th>\n",
       "    </tr>\n",
       "  </thead>\n",
       "  <tbody>\n",
       "    <tr>\n",
       "      <th>13351</th>\n",
       "      <td>Jet Airways</td>\n",
       "      <td>6/03/2019</td>\n",
       "      <td>Delhi</td>\n",
       "      <td>Cochin</td>\n",
       "      <td>DEL → BOM → COK</td>\n",
       "      <td>21:50</td>\n",
       "      <td>04:25 07 Mar</td>\n",
       "      <td>6h 35m</td>\n",
       "      <td>1 stop</td>\n",
       "      <td>No info</td>\n",
       "      <td>NaN</td>\n",
       "    </tr>\n",
       "    <tr>\n",
       "      <th>13352</th>\n",
       "      <td>Air India</td>\n",
       "      <td>6/03/2019</td>\n",
       "      <td>Delhi</td>\n",
       "      <td>Cochin</td>\n",
       "      <td>DEL → BOM → COK</td>\n",
       "      <td>04:00</td>\n",
       "      <td>19:15</td>\n",
       "      <td>15h 15m</td>\n",
       "      <td>1 stop</td>\n",
       "      <td>No info</td>\n",
       "      <td>NaN</td>\n",
       "    </tr>\n",
       "    <tr>\n",
       "      <th>13353</th>\n",
       "      <td>Multiple carriers</td>\n",
       "      <td>15/06/2019</td>\n",
       "      <td>Delhi</td>\n",
       "      <td>Cochin</td>\n",
       "      <td>DEL → BOM → COK</td>\n",
       "      <td>04:55</td>\n",
       "      <td>19:15</td>\n",
       "      <td>14h 20m</td>\n",
       "      <td>1 stop</td>\n",
       "      <td>No info</td>\n",
       "      <td>NaN</td>\n",
       "    </tr>\n",
       "  </tbody>\n",
       "</table>\n",
       "</div>"
      ],
      "text/plain": [
       "                 Airline Date_of_Journey Source Destination            Route  \\\n",
       "13351        Jet Airways       6/03/2019  Delhi      Cochin  DEL → BOM → COK   \n",
       "13352          Air India       6/03/2019  Delhi      Cochin  DEL → BOM → COK   \n",
       "13353  Multiple carriers      15/06/2019  Delhi      Cochin  DEL → BOM → COK   \n",
       "\n",
       "      Dep_Time  Arrival_Time Duration Total_Stops Additional_Info  Price  \n",
       "13351    21:50  04:25 07 Mar   6h 35m      1 stop         No info    NaN  \n",
       "13352    04:00         19:15  15h 15m      1 stop         No info    NaN  \n",
       "13353    04:55         19:15  14h 20m      1 stop         No info    NaN  "
      ]
     },
     "execution_count": 226,
     "metadata": {},
     "output_type": "execute_result"
    }
   ],
   "source": [
    "df.tail(3)"
   ]
  },
  {
   "cell_type": "code",
   "execution_count": 227,
   "id": "76dc0c61",
   "metadata": {},
   "outputs": [
    {
     "data": {
      "text/plain": [
       "Index(['Airline', 'Date_of_Journey', 'Source', 'Destination', 'Route',\n",
       "       'Dep_Time', 'Arrival_Time', 'Duration', 'Total_Stops',\n",
       "       'Additional_Info', 'Price'],\n",
       "      dtype='object')"
      ]
     },
     "execution_count": 227,
     "metadata": {},
     "output_type": "execute_result"
    }
   ],
   "source": [
    "df.columns"
   ]
  },
  {
   "cell_type": "markdown",
   "id": "f0caca7b",
   "metadata": {},
   "source": [
    "##### Converting Date od Journey column into integer"
   ]
  },
  {
   "cell_type": "code",
   "execution_count": 228,
   "id": "60103da3",
   "metadata": {
    "scrolled": true
   },
   "outputs": [
    {
     "data": {
      "text/plain": [
       "0        24/03/2019\n",
       "1         1/05/2019\n",
       "2         9/06/2019\n",
       "3        12/05/2019\n",
       "4        01/03/2019\n",
       "            ...    \n",
       "13349     6/06/2019\n",
       "13350    27/03/2019\n",
       "13351     6/03/2019\n",
       "13352     6/03/2019\n",
       "13353    15/06/2019\n",
       "Name: Date_of_Journey, Length: 13354, dtype: object"
      ]
     },
     "execution_count": 228,
     "metadata": {},
     "output_type": "execute_result"
    }
   ],
   "source": [
    "df['Date_of_Journey']"
   ]
  },
  {
   "cell_type": "code",
   "execution_count": 229,
   "id": "f0dd665f",
   "metadata": {},
   "outputs": [
    {
     "data": {
      "text/plain": [
       "0        24\n",
       "1         1\n",
       "2         9\n",
       "3        12\n",
       "4        01\n",
       "         ..\n",
       "13349     6\n",
       "13350    27\n",
       "13351     6\n",
       "13352     6\n",
       "13353    15\n",
       "Name: Date_of_Journey, Length: 13354, dtype: object"
      ]
     },
     "execution_count": 229,
     "metadata": {},
     "output_type": "execute_result"
    }
   ],
   "source": [
    "df.Date_of_Journey.str.split('/').str[0]"
   ]
  },
  {
   "cell_type": "code",
   "execution_count": 230,
   "id": "6dad70b1",
   "metadata": {},
   "outputs": [
    {
     "data": {
      "text/plain": [
       "0        2019\n",
       "1        2019\n",
       "2        2019\n",
       "3        2019\n",
       "4        2019\n",
       "         ... \n",
       "13349    2019\n",
       "13350    2019\n",
       "13351    2019\n",
       "13352    2019\n",
       "13353    2019\n",
       "Name: Date_of_Journey, Length: 13354, dtype: object"
      ]
     },
     "execution_count": 230,
     "metadata": {},
     "output_type": "execute_result"
    }
   ],
   "source": [
    "df.Date_of_Journey.str.split('/').str[2]"
   ]
  },
  {
   "cell_type": "code",
   "execution_count": 231,
   "id": "c569c80e",
   "metadata": {},
   "outputs": [
    {
     "data": {
      "text/plain": [
       "(13354, 11)"
      ]
     },
     "execution_count": 231,
     "metadata": {},
     "output_type": "execute_result"
    }
   ],
   "source": [
    "df.shape"
   ]
  },
  {
   "cell_type": "markdown",
   "id": "30f79d92",
   "metadata": {},
   "source": [
    "##### Derived Feature "
   ]
  },
  {
   "cell_type": "code",
   "execution_count": 232,
   "id": "39386a8f",
   "metadata": {},
   "outputs": [],
   "source": [
    "df['Date']=df.Date_of_Journey.str.split('/').str[0]\n",
    "df['Month']=df.Date_of_Journey.str.split('/').str[1]\n",
    "df['Year']=df.Date_of_Journey.str.split('/').str[2]"
   ]
  },
  {
   "cell_type": "code",
   "execution_count": 190,
   "id": "e0bed1a0",
   "metadata": {},
   "outputs": [],
   "source": [
    "#or \n",
    "#df['Date']=df['Date_of_Journey'].apply(lambda x:x.split('/')[0])\n",
    "#df['Month']=df['Date_of_Journey'].apply(lambda x:x.split('/')[1])\n",
    "#df['Year']=df['Date_of_Journey'].apply(lambda x:x.split('/')[2])"
   ]
  },
  {
   "cell_type": "code",
   "execution_count": 233,
   "id": "16f62163",
   "metadata": {},
   "outputs": [],
   "source": [
    "df.drop(['Date_of_Journey'],axis=1,inplace=True)"
   ]
  },
  {
   "cell_type": "code",
   "execution_count": 234,
   "id": "018a7ddb",
   "metadata": {},
   "outputs": [
    {
     "data": {
      "text/html": [
       "<div>\n",
       "<style scoped>\n",
       "    .dataframe tbody tr th:only-of-type {\n",
       "        vertical-align: middle;\n",
       "    }\n",
       "\n",
       "    .dataframe tbody tr th {\n",
       "        vertical-align: top;\n",
       "    }\n",
       "\n",
       "    .dataframe thead th {\n",
       "        text-align: right;\n",
       "    }\n",
       "</style>\n",
       "<table border=\"1\" class=\"dataframe\">\n",
       "  <thead>\n",
       "    <tr style=\"text-align: right;\">\n",
       "      <th></th>\n",
       "      <th>Airline</th>\n",
       "      <th>Source</th>\n",
       "      <th>Destination</th>\n",
       "      <th>Route</th>\n",
       "      <th>Dep_Time</th>\n",
       "      <th>Arrival_Time</th>\n",
       "      <th>Duration</th>\n",
       "      <th>Total_Stops</th>\n",
       "      <th>Additional_Info</th>\n",
       "      <th>Price</th>\n",
       "      <th>Date</th>\n",
       "      <th>Month</th>\n",
       "      <th>Year</th>\n",
       "    </tr>\n",
       "  </thead>\n",
       "  <tbody>\n",
       "    <tr>\n",
       "      <th>0</th>\n",
       "      <td>IndiGo</td>\n",
       "      <td>Banglore</td>\n",
       "      <td>New Delhi</td>\n",
       "      <td>BLR → DEL</td>\n",
       "      <td>22:20</td>\n",
       "      <td>01:10 22 Mar</td>\n",
       "      <td>2h 50m</td>\n",
       "      <td>non-stop</td>\n",
       "      <td>No info</td>\n",
       "      <td>3897.0</td>\n",
       "      <td>24</td>\n",
       "      <td>03</td>\n",
       "      <td>2019</td>\n",
       "    </tr>\n",
       "    <tr>\n",
       "      <th>1</th>\n",
       "      <td>Air India</td>\n",
       "      <td>Kolkata</td>\n",
       "      <td>Banglore</td>\n",
       "      <td>CCU → IXR → BBI → BLR</td>\n",
       "      <td>05:50</td>\n",
       "      <td>13:15</td>\n",
       "      <td>7h 25m</td>\n",
       "      <td>2 stops</td>\n",
       "      <td>No info</td>\n",
       "      <td>7662.0</td>\n",
       "      <td>1</td>\n",
       "      <td>05</td>\n",
       "      <td>2019</td>\n",
       "    </tr>\n",
       "    <tr>\n",
       "      <th>2</th>\n",
       "      <td>Jet Airways</td>\n",
       "      <td>Delhi</td>\n",
       "      <td>Cochin</td>\n",
       "      <td>DEL → LKO → BOM → COK</td>\n",
       "      <td>09:25</td>\n",
       "      <td>04:25 10 Jun</td>\n",
       "      <td>19h</td>\n",
       "      <td>2 stops</td>\n",
       "      <td>No info</td>\n",
       "      <td>13882.0</td>\n",
       "      <td>9</td>\n",
       "      <td>06</td>\n",
       "      <td>2019</td>\n",
       "    </tr>\n",
       "    <tr>\n",
       "      <th>3</th>\n",
       "      <td>IndiGo</td>\n",
       "      <td>Kolkata</td>\n",
       "      <td>Banglore</td>\n",
       "      <td>CCU → NAG → BLR</td>\n",
       "      <td>18:05</td>\n",
       "      <td>23:30</td>\n",
       "      <td>5h 25m</td>\n",
       "      <td>1 stop</td>\n",
       "      <td>No info</td>\n",
       "      <td>6218.0</td>\n",
       "      <td>12</td>\n",
       "      <td>05</td>\n",
       "      <td>2019</td>\n",
       "    </tr>\n",
       "    <tr>\n",
       "      <th>4</th>\n",
       "      <td>IndiGo</td>\n",
       "      <td>Banglore</td>\n",
       "      <td>New Delhi</td>\n",
       "      <td>BLR → NAG → DEL</td>\n",
       "      <td>16:50</td>\n",
       "      <td>21:35</td>\n",
       "      <td>4h 45m</td>\n",
       "      <td>1 stop</td>\n",
       "      <td>No info</td>\n",
       "      <td>13302.0</td>\n",
       "      <td>01</td>\n",
       "      <td>03</td>\n",
       "      <td>2019</td>\n",
       "    </tr>\n",
       "  </tbody>\n",
       "</table>\n",
       "</div>"
      ],
      "text/plain": [
       "       Airline    Source Destination                  Route Dep_Time  \\\n",
       "0       IndiGo  Banglore   New Delhi              BLR → DEL    22:20   \n",
       "1    Air India   Kolkata    Banglore  CCU → IXR → BBI → BLR    05:50   \n",
       "2  Jet Airways     Delhi      Cochin  DEL → LKO → BOM → COK    09:25   \n",
       "3       IndiGo   Kolkata    Banglore        CCU → NAG → BLR    18:05   \n",
       "4       IndiGo  Banglore   New Delhi        BLR → NAG → DEL    16:50   \n",
       "\n",
       "   Arrival_Time Duration Total_Stops Additional_Info    Price Date Month  Year  \n",
       "0  01:10 22 Mar   2h 50m    non-stop         No info   3897.0   24    03  2019  \n",
       "1         13:15   7h 25m     2 stops         No info   7662.0    1    05  2019  \n",
       "2  04:25 10 Jun      19h     2 stops         No info  13882.0    9    06  2019  \n",
       "3         23:30   5h 25m      1 stop         No info   6218.0   12    05  2019  \n",
       "4         21:35   4h 45m      1 stop         No info  13302.0   01    03  2019  "
      ]
     },
     "execution_count": 234,
     "metadata": {},
     "output_type": "execute_result"
    }
   ],
   "source": [
    "df.head()"
   ]
  },
  {
   "cell_type": "code",
   "execution_count": 235,
   "id": "0ab5de32",
   "metadata": {},
   "outputs": [
    {
     "data": {
      "text/plain": [
       "Airline             object\n",
       "Source              object\n",
       "Destination         object\n",
       "Route               object\n",
       "Dep_Time            object\n",
       "Arrival_Time        object\n",
       "Duration            object\n",
       "Total_Stops         object\n",
       "Additional_Info     object\n",
       "Price              float64\n",
       "Date                object\n",
       "Month               object\n",
       "Year                object\n",
       "dtype: object"
      ]
     },
     "execution_count": 235,
     "metadata": {},
     "output_type": "execute_result"
    }
   ],
   "source": [
    "df.dtypes"
   ]
  },
  {
   "cell_type": "code",
   "execution_count": 236,
   "id": "0cc6d9d3",
   "metadata": {},
   "outputs": [],
   "source": [
    "df.Date=df.Date.astype('int64')\n",
    "df.Month=df.Month.astype('int64')\n",
    "df.Year=df.Year.astype('int64')"
   ]
  },
  {
   "cell_type": "code",
   "execution_count": 237,
   "id": "aa7b4947",
   "metadata": {},
   "outputs": [
    {
     "data": {
      "text/plain": [
       "Airline             object\n",
       "Source              object\n",
       "Destination         object\n",
       "Route               object\n",
       "Dep_Time            object\n",
       "Arrival_Time        object\n",
       "Duration            object\n",
       "Total_Stops         object\n",
       "Additional_Info     object\n",
       "Price              float64\n",
       "Date                 int64\n",
       "Month                int64\n",
       "Year                 int64\n",
       "dtype: object"
      ]
     },
     "execution_count": 237,
     "metadata": {},
     "output_type": "execute_result"
    }
   ],
   "source": [
    "df.dtypes"
   ]
  },
  {
   "cell_type": "code",
   "execution_count": 238,
   "id": "d7d515a2",
   "metadata": {},
   "outputs": [
    {
     "data": {
      "text/html": [
       "<div>\n",
       "<style scoped>\n",
       "    .dataframe tbody tr th:only-of-type {\n",
       "        vertical-align: middle;\n",
       "    }\n",
       "\n",
       "    .dataframe tbody tr th {\n",
       "        vertical-align: top;\n",
       "    }\n",
       "\n",
       "    .dataframe thead th {\n",
       "        text-align: right;\n",
       "    }\n",
       "</style>\n",
       "<table border=\"1\" class=\"dataframe\">\n",
       "  <thead>\n",
       "    <tr style=\"text-align: right;\">\n",
       "      <th></th>\n",
       "      <th>Airline</th>\n",
       "      <th>Source</th>\n",
       "      <th>Destination</th>\n",
       "      <th>Route</th>\n",
       "      <th>Dep_Time</th>\n",
       "      <th>Arrival_Time</th>\n",
       "      <th>Duration</th>\n",
       "      <th>Total_Stops</th>\n",
       "      <th>Additional_Info</th>\n",
       "      <th>Price</th>\n",
       "      <th>Date</th>\n",
       "      <th>Month</th>\n",
       "      <th>Year</th>\n",
       "    </tr>\n",
       "  </thead>\n",
       "  <tbody>\n",
       "    <tr>\n",
       "      <th>0</th>\n",
       "      <td>IndiGo</td>\n",
       "      <td>Banglore</td>\n",
       "      <td>New Delhi</td>\n",
       "      <td>BLR → DEL</td>\n",
       "      <td>22:20</td>\n",
       "      <td>01:10 22 Mar</td>\n",
       "      <td>2h 50m</td>\n",
       "      <td>non-stop</td>\n",
       "      <td>No info</td>\n",
       "      <td>3897.0</td>\n",
       "      <td>24</td>\n",
       "      <td>3</td>\n",
       "      <td>2019</td>\n",
       "    </tr>\n",
       "    <tr>\n",
       "      <th>1</th>\n",
       "      <td>Air India</td>\n",
       "      <td>Kolkata</td>\n",
       "      <td>Banglore</td>\n",
       "      <td>CCU → IXR → BBI → BLR</td>\n",
       "      <td>05:50</td>\n",
       "      <td>13:15</td>\n",
       "      <td>7h 25m</td>\n",
       "      <td>2 stops</td>\n",
       "      <td>No info</td>\n",
       "      <td>7662.0</td>\n",
       "      <td>1</td>\n",
       "      <td>5</td>\n",
       "      <td>2019</td>\n",
       "    </tr>\n",
       "    <tr>\n",
       "      <th>2</th>\n",
       "      <td>Jet Airways</td>\n",
       "      <td>Delhi</td>\n",
       "      <td>Cochin</td>\n",
       "      <td>DEL → LKO → BOM → COK</td>\n",
       "      <td>09:25</td>\n",
       "      <td>04:25 10 Jun</td>\n",
       "      <td>19h</td>\n",
       "      <td>2 stops</td>\n",
       "      <td>No info</td>\n",
       "      <td>13882.0</td>\n",
       "      <td>9</td>\n",
       "      <td>6</td>\n",
       "      <td>2019</td>\n",
       "    </tr>\n",
       "    <tr>\n",
       "      <th>3</th>\n",
       "      <td>IndiGo</td>\n",
       "      <td>Kolkata</td>\n",
       "      <td>Banglore</td>\n",
       "      <td>CCU → NAG → BLR</td>\n",
       "      <td>18:05</td>\n",
       "      <td>23:30</td>\n",
       "      <td>5h 25m</td>\n",
       "      <td>1 stop</td>\n",
       "      <td>No info</td>\n",
       "      <td>6218.0</td>\n",
       "      <td>12</td>\n",
       "      <td>5</td>\n",
       "      <td>2019</td>\n",
       "    </tr>\n",
       "  </tbody>\n",
       "</table>\n",
       "</div>"
      ],
      "text/plain": [
       "       Airline    Source Destination                  Route Dep_Time  \\\n",
       "0       IndiGo  Banglore   New Delhi              BLR → DEL    22:20   \n",
       "1    Air India   Kolkata    Banglore  CCU → IXR → BBI → BLR    05:50   \n",
       "2  Jet Airways     Delhi      Cochin  DEL → LKO → BOM → COK    09:25   \n",
       "3       IndiGo   Kolkata    Banglore        CCU → NAG → BLR    18:05   \n",
       "\n",
       "   Arrival_Time Duration Total_Stops Additional_Info    Price  Date  Month  \\\n",
       "0  01:10 22 Mar   2h 50m    non-stop         No info   3897.0    24      3   \n",
       "1         13:15   7h 25m     2 stops         No info   7662.0     1      5   \n",
       "2  04:25 10 Jun      19h     2 stops         No info  13882.0     9      6   \n",
       "3         23:30   5h 25m      1 stop         No info   6218.0    12      5   \n",
       "\n",
       "   Year  \n",
       "0  2019  \n",
       "1  2019  \n",
       "2  2019  \n",
       "3  2019  "
      ]
     },
     "execution_count": 238,
     "metadata": {},
     "output_type": "execute_result"
    }
   ],
   "source": [
    "df.head(4)"
   ]
  },
  {
   "cell_type": "markdown",
   "id": "a261ce6e",
   "metadata": {},
   "source": [
    "##### Converting Arrival, Departure and Duration time into integer values"
   ]
  },
  {
   "cell_type": "code",
   "execution_count": 239,
   "id": "96f75aa0",
   "metadata": {},
   "outputs": [
    {
     "data": {
      "text/plain": [
       "0        01:10\n",
       "1        13:15\n",
       "2        04:25\n",
       "3        23:30\n",
       "4        21:35\n",
       "         ...  \n",
       "13349    20:25\n",
       "13350    16:55\n",
       "13351    04:25\n",
       "13352    19:15\n",
       "13353    19:15\n",
       "Name: Arrival_Time, Length: 13354, dtype: object"
      ]
     },
     "execution_count": 239,
     "metadata": {},
     "output_type": "execute_result"
    }
   ],
   "source": [
    "df['Arrival_Time'].apply(lambda x:x.split(' ')[0])"
   ]
  },
  {
   "cell_type": "code",
   "execution_count": 240,
   "id": "6d6e76c2",
   "metadata": {},
   "outputs": [
    {
     "data": {
      "text/plain": [
       "0        01:10\n",
       "1        13:15\n",
       "2        04:25\n",
       "3        23:30\n",
       "4        21:35\n",
       "         ...  \n",
       "13349    20:25\n",
       "13350    16:55\n",
       "13351    04:25\n",
       "13352    19:15\n",
       "13353    19:15\n",
       "Name: Arrival_Time, Length: 13354, dtype: object"
      ]
     },
     "execution_count": 240,
     "metadata": {},
     "output_type": "execute_result"
    }
   ],
   "source": [
    "df['Arrival_Time'].str.split(' ').str[0]"
   ]
  },
  {
   "cell_type": "code",
   "execution_count": 241,
   "id": "baff320b",
   "metadata": {},
   "outputs": [],
   "source": [
    "df['Arrival_Time']=df['Arrival_Time'].apply(lambda x:x.split(' ')[0])"
   ]
  },
  {
   "cell_type": "code",
   "execution_count": 242,
   "id": "331b1586",
   "metadata": {},
   "outputs": [
    {
     "data": {
      "text/plain": [
       "Airline             0.000000\n",
       "Source              0.000000\n",
       "Destination         0.000000\n",
       "Route               0.007488\n",
       "Dep_Time            0.000000\n",
       "Arrival_Time        0.000000\n",
       "Duration            0.000000\n",
       "Total_Stops         0.007488\n",
       "Additional_Info     0.000000\n",
       "Price              20.001498\n",
       "Date                0.000000\n",
       "Month               0.000000\n",
       "Year                0.000000\n",
       "dtype: float64"
      ]
     },
     "execution_count": 242,
     "metadata": {},
     "output_type": "execute_result"
    }
   ],
   "source": [
    "df.isnull().mean()*100"
   ]
  },
  {
   "cell_type": "code",
   "execution_count": 243,
   "id": "738dce49",
   "metadata": {},
   "outputs": [],
   "source": [
    "df['Arrival_hour']=df['Arrival_Time'].apply(lambda x:x.split(':')[0])"
   ]
  },
  {
   "cell_type": "code",
   "execution_count": 244,
   "id": "5cca53d5",
   "metadata": {},
   "outputs": [],
   "source": [
    "df['Arrival_mint']=df['Arrival_Time'].apply(lambda x:x.split(':')[1])"
   ]
  },
  {
   "cell_type": "code",
   "execution_count": 245,
   "id": "b9ca4b4e",
   "metadata": {},
   "outputs": [],
   "source": [
    "df['Arrival_hour']=df['Arrival_hour'].astype('int64')"
   ]
  },
  {
   "cell_type": "code",
   "execution_count": 246,
   "id": "3d007a1a",
   "metadata": {},
   "outputs": [],
   "source": [
    "df['Arrival_mint']=df['Arrival_mint'].astype('int64')"
   ]
  },
  {
   "cell_type": "code",
   "execution_count": 247,
   "id": "ddb222a2",
   "metadata": {},
   "outputs": [
    {
     "data": {
      "text/plain": [
       "Airline             object\n",
       "Source              object\n",
       "Destination         object\n",
       "Route               object\n",
       "Dep_Time            object\n",
       "Arrival_Time        object\n",
       "Duration            object\n",
       "Total_Stops         object\n",
       "Additional_Info     object\n",
       "Price              float64\n",
       "Date                 int64\n",
       "Month                int64\n",
       "Year                 int64\n",
       "Arrival_hour         int64\n",
       "Arrival_mint         int64\n",
       "dtype: object"
      ]
     },
     "execution_count": 247,
     "metadata": {},
     "output_type": "execute_result"
    }
   ],
   "source": [
    "df.dtypes"
   ]
  },
  {
   "cell_type": "code",
   "execution_count": 248,
   "id": "5f4c2efe",
   "metadata": {},
   "outputs": [],
   "source": [
    "df.drop(['Arrival_Time'],axis=1,inplace=True)"
   ]
  },
  {
   "cell_type": "code",
   "execution_count": 249,
   "id": "d3c9beff",
   "metadata": {},
   "outputs": [],
   "source": [
    "df['Dept_hours']=df['Dep_Time'].apply(lambda x:x.split(':')[0])"
   ]
  },
  {
   "cell_type": "code",
   "execution_count": 250,
   "id": "6305fbde",
   "metadata": {},
   "outputs": [],
   "source": [
    "df['Dept_mint']=df['Dep_Time'].apply(lambda x:x.split(':')[1])"
   ]
  },
  {
   "cell_type": "code",
   "execution_count": 251,
   "id": "5f5f4664",
   "metadata": {},
   "outputs": [],
   "source": [
    "df.drop(['Dep_Time'],axis=1,inplace=True)"
   ]
  },
  {
   "cell_type": "code",
   "execution_count": 252,
   "id": "3b326375",
   "metadata": {},
   "outputs": [],
   "source": [
    "df['Dept_mint']=df['Dept_mint'].astype('int64')\n",
    "df['Dept_hours']=df['Dept_hours'].astype('int64')"
   ]
  },
  {
   "cell_type": "code",
   "execution_count": 253,
   "id": "33da313a",
   "metadata": {},
   "outputs": [
    {
     "data": {
      "text/plain": [
       "Airline             object\n",
       "Source              object\n",
       "Destination         object\n",
       "Route               object\n",
       "Duration            object\n",
       "Total_Stops         object\n",
       "Additional_Info     object\n",
       "Price              float64\n",
       "Date                 int64\n",
       "Month                int64\n",
       "Year                 int64\n",
       "Arrival_hour         int64\n",
       "Arrival_mint         int64\n",
       "Dept_hours           int64\n",
       "Dept_mint            int64\n",
       "dtype: object"
      ]
     },
     "execution_count": 253,
     "metadata": {},
     "output_type": "execute_result"
    }
   ],
   "source": [
    "df.dtypes"
   ]
  },
  {
   "cell_type": "code",
   "execution_count": 254,
   "id": "42eaff92",
   "metadata": {},
   "outputs": [
    {
     "data": {
      "text/plain": [
       "array(['non-stop', '2 stops', '1 stop', '3 stops', nan, '4 stops'],\n",
       "      dtype=object)"
      ]
     },
     "execution_count": 254,
     "metadata": {},
     "output_type": "execute_result"
    }
   ],
   "source": [
    "df['Total_Stops'].unique()"
   ]
  },
  {
   "cell_type": "code",
   "execution_count": 255,
   "id": "04b20489",
   "metadata": {},
   "outputs": [],
   "source": [
    "df['Total_Stops']=df['Total_Stops'].map({'non-stop':0,'1 stop':1,'2 stops':2,'3 stops':3,'4 stops':4,np.nan:1})"
   ]
  },
  {
   "cell_type": "code",
   "execution_count": 256,
   "id": "9936996a",
   "metadata": {},
   "outputs": [
    {
     "data": {
      "text/html": [
       "<div>\n",
       "<style scoped>\n",
       "    .dataframe tbody tr th:only-of-type {\n",
       "        vertical-align: middle;\n",
       "    }\n",
       "\n",
       "    .dataframe tbody tr th {\n",
       "        vertical-align: top;\n",
       "    }\n",
       "\n",
       "    .dataframe thead th {\n",
       "        text-align: right;\n",
       "    }\n",
       "</style>\n",
       "<table border=\"1\" class=\"dataframe\">\n",
       "  <thead>\n",
       "    <tr style=\"text-align: right;\">\n",
       "      <th></th>\n",
       "      <th>Airline</th>\n",
       "      <th>Source</th>\n",
       "      <th>Destination</th>\n",
       "      <th>Route</th>\n",
       "      <th>Duration</th>\n",
       "      <th>Total_Stops</th>\n",
       "      <th>Additional_Info</th>\n",
       "      <th>Price</th>\n",
       "      <th>Date</th>\n",
       "      <th>Month</th>\n",
       "      <th>Year</th>\n",
       "      <th>Arrival_hour</th>\n",
       "      <th>Arrival_mint</th>\n",
       "      <th>Dept_hours</th>\n",
       "      <th>Dept_mint</th>\n",
       "    </tr>\n",
       "  </thead>\n",
       "  <tbody>\n",
       "    <tr>\n",
       "      <th>0</th>\n",
       "      <td>IndiGo</td>\n",
       "      <td>Banglore</td>\n",
       "      <td>New Delhi</td>\n",
       "      <td>BLR → DEL</td>\n",
       "      <td>2h 50m</td>\n",
       "      <td>0</td>\n",
       "      <td>No info</td>\n",
       "      <td>3897.0</td>\n",
       "      <td>24</td>\n",
       "      <td>3</td>\n",
       "      <td>2019</td>\n",
       "      <td>1</td>\n",
       "      <td>10</td>\n",
       "      <td>22</td>\n",
       "      <td>20</td>\n",
       "    </tr>\n",
       "    <tr>\n",
       "      <th>1</th>\n",
       "      <td>Air India</td>\n",
       "      <td>Kolkata</td>\n",
       "      <td>Banglore</td>\n",
       "      <td>CCU → IXR → BBI → BLR</td>\n",
       "      <td>7h 25m</td>\n",
       "      <td>2</td>\n",
       "      <td>No info</td>\n",
       "      <td>7662.0</td>\n",
       "      <td>1</td>\n",
       "      <td>5</td>\n",
       "      <td>2019</td>\n",
       "      <td>13</td>\n",
       "      <td>15</td>\n",
       "      <td>5</td>\n",
       "      <td>50</td>\n",
       "    </tr>\n",
       "  </tbody>\n",
       "</table>\n",
       "</div>"
      ],
      "text/plain": [
       "     Airline    Source Destination                  Route Duration  \\\n",
       "0     IndiGo  Banglore   New Delhi              BLR → DEL   2h 50m   \n",
       "1  Air India   Kolkata    Banglore  CCU → IXR → BBI → BLR   7h 25m   \n",
       "\n",
       "   Total_Stops Additional_Info   Price  Date  Month  Year  Arrival_hour  \\\n",
       "0            0         No info  3897.0    24      3  2019             1   \n",
       "1            2         No info  7662.0     1      5  2019            13   \n",
       "\n",
       "   Arrival_mint  Dept_hours  Dept_mint  \n",
       "0            10          22         20  \n",
       "1            15           5         50  "
      ]
     },
     "execution_count": 256,
     "metadata": {},
     "output_type": "execute_result"
    }
   ],
   "source": [
    "df.head(2)"
   ]
  },
  {
   "cell_type": "code",
   "execution_count": 257,
   "id": "17c5fa25",
   "metadata": {},
   "outputs": [
    {
     "data": {
      "text/plain": [
       "0    1\n",
       "dtype: int64"
      ]
     },
     "execution_count": 257,
     "metadata": {},
     "output_type": "execute_result"
    }
   ],
   "source": [
    "df.Total_Stops.mode()"
   ]
  },
  {
   "cell_type": "code",
   "execution_count": 258,
   "id": "7ef2740c",
   "metadata": {},
   "outputs": [
    {
     "data": {
      "text/html": [
       "<div>\n",
       "<style scoped>\n",
       "    .dataframe tbody tr th:only-of-type {\n",
       "        vertical-align: middle;\n",
       "    }\n",
       "\n",
       "    .dataframe tbody tr th {\n",
       "        vertical-align: top;\n",
       "    }\n",
       "\n",
       "    .dataframe thead th {\n",
       "        text-align: right;\n",
       "    }\n",
       "</style>\n",
       "<table border=\"1\" class=\"dataframe\">\n",
       "  <thead>\n",
       "    <tr style=\"text-align: right;\">\n",
       "      <th></th>\n",
       "      <th>Airline</th>\n",
       "      <th>Source</th>\n",
       "      <th>Destination</th>\n",
       "      <th>Route</th>\n",
       "      <th>Duration</th>\n",
       "      <th>Total_Stops</th>\n",
       "      <th>Additional_Info</th>\n",
       "      <th>Price</th>\n",
       "      <th>Date</th>\n",
       "      <th>Month</th>\n",
       "      <th>Year</th>\n",
       "      <th>Arrival_hour</th>\n",
       "      <th>Arrival_mint</th>\n",
       "      <th>Dept_hours</th>\n",
       "      <th>Dept_mint</th>\n",
       "    </tr>\n",
       "  </thead>\n",
       "  <tbody>\n",
       "  </tbody>\n",
       "</table>\n",
       "</div>"
      ],
      "text/plain": [
       "Empty DataFrame\n",
       "Columns: [Airline, Source, Destination, Route, Duration, Total_Stops, Additional_Info, Price, Date, Month, Year, Arrival_hour, Arrival_mint, Dept_hours, Dept_mint]\n",
       "Index: []"
      ]
     },
     "execution_count": 258,
     "metadata": {},
     "output_type": "execute_result"
    }
   ],
   "source": [
    "df[df.Total_Stops.isnull()==True]"
   ]
  },
  {
   "cell_type": "code",
   "execution_count": 260,
   "id": "67d72abc",
   "metadata": {},
   "outputs": [],
   "source": [
    "df.drop(['Route'],axis=1,inplace=True)"
   ]
  },
  {
   "cell_type": "code",
   "execution_count": 261,
   "id": "4c7756a9",
   "metadata": {},
   "outputs": [
    {
     "data": {
      "text/plain": [
       "Airline             object\n",
       "Source              object\n",
       "Destination         object\n",
       "Duration            object\n",
       "Total_Stops          int64\n",
       "Additional_Info     object\n",
       "Price              float64\n",
       "Date                 int64\n",
       "Month                int64\n",
       "Year                 int64\n",
       "Arrival_hour         int64\n",
       "Arrival_mint         int64\n",
       "Dept_hours           int64\n",
       "Dept_mint            int64\n",
       "dtype: object"
      ]
     },
     "execution_count": 261,
     "metadata": {},
     "output_type": "execute_result"
    }
   ],
   "source": [
    "df.dtypes"
   ]
  },
  {
   "cell_type": "code",
   "execution_count": 262,
   "id": "9e7a48b6",
   "metadata": {},
   "outputs": [
    {
     "data": {
      "text/html": [
       "<div>\n",
       "<style scoped>\n",
       "    .dataframe tbody tr th:only-of-type {\n",
       "        vertical-align: middle;\n",
       "    }\n",
       "\n",
       "    .dataframe tbody tr th {\n",
       "        vertical-align: top;\n",
       "    }\n",
       "\n",
       "    .dataframe thead th {\n",
       "        text-align: right;\n",
       "    }\n",
       "</style>\n",
       "<table border=\"1\" class=\"dataframe\">\n",
       "  <thead>\n",
       "    <tr style=\"text-align: right;\">\n",
       "      <th></th>\n",
       "      <th>Airline</th>\n",
       "      <th>Source</th>\n",
       "      <th>Destination</th>\n",
       "      <th>Duration</th>\n",
       "      <th>Total_Stops</th>\n",
       "      <th>Additional_Info</th>\n",
       "      <th>Price</th>\n",
       "      <th>Date</th>\n",
       "      <th>Month</th>\n",
       "      <th>Year</th>\n",
       "      <th>Arrival_hour</th>\n",
       "      <th>Arrival_mint</th>\n",
       "      <th>Dept_hours</th>\n",
       "      <th>Dept_mint</th>\n",
       "    </tr>\n",
       "  </thead>\n",
       "  <tbody>\n",
       "    <tr>\n",
       "      <th>0</th>\n",
       "      <td>IndiGo</td>\n",
       "      <td>Banglore</td>\n",
       "      <td>New Delhi</td>\n",
       "      <td>2h 50m</td>\n",
       "      <td>0</td>\n",
       "      <td>No info</td>\n",
       "      <td>3897.0</td>\n",
       "      <td>24</td>\n",
       "      <td>3</td>\n",
       "      <td>2019</td>\n",
       "      <td>1</td>\n",
       "      <td>10</td>\n",
       "      <td>22</td>\n",
       "      <td>20</td>\n",
       "    </tr>\n",
       "    <tr>\n",
       "      <th>1</th>\n",
       "      <td>Air India</td>\n",
       "      <td>Kolkata</td>\n",
       "      <td>Banglore</td>\n",
       "      <td>7h 25m</td>\n",
       "      <td>2</td>\n",
       "      <td>No info</td>\n",
       "      <td>7662.0</td>\n",
       "      <td>1</td>\n",
       "      <td>5</td>\n",
       "      <td>2019</td>\n",
       "      <td>13</td>\n",
       "      <td>15</td>\n",
       "      <td>5</td>\n",
       "      <td>50</td>\n",
       "    </tr>\n",
       "    <tr>\n",
       "      <th>2</th>\n",
       "      <td>Jet Airways</td>\n",
       "      <td>Delhi</td>\n",
       "      <td>Cochin</td>\n",
       "      <td>19h</td>\n",
       "      <td>2</td>\n",
       "      <td>No info</td>\n",
       "      <td>13882.0</td>\n",
       "      <td>9</td>\n",
       "      <td>6</td>\n",
       "      <td>2019</td>\n",
       "      <td>4</td>\n",
       "      <td>25</td>\n",
       "      <td>9</td>\n",
       "      <td>25</td>\n",
       "    </tr>\n",
       "  </tbody>\n",
       "</table>\n",
       "</div>"
      ],
      "text/plain": [
       "       Airline    Source Destination Duration  Total_Stops Additional_Info  \\\n",
       "0       IndiGo  Banglore   New Delhi   2h 50m            0         No info   \n",
       "1    Air India   Kolkata    Banglore   7h 25m            2         No info   \n",
       "2  Jet Airways     Delhi      Cochin      19h            2         No info   \n",
       "\n",
       "     Price  Date  Month  Year  Arrival_hour  Arrival_mint  Dept_hours  \\\n",
       "0   3897.0    24      3  2019             1            10          22   \n",
       "1   7662.0     1      5  2019            13            15           5   \n",
       "2  13882.0     9      6  2019             4            25           9   \n",
       "\n",
       "   Dept_mint  \n",
       "0         20  \n",
       "1         50  \n",
       "2         25  "
      ]
     },
     "execution_count": 262,
     "metadata": {},
     "output_type": "execute_result"
    }
   ],
   "source": [
    "df.head(3)"
   ]
  },
  {
   "cell_type": "code",
   "execution_count": 264,
   "id": "3858aef6",
   "metadata": {},
   "outputs": [
    {
     "data": {
      "text/plain": [
       "array(['No info', 'In-flight meal not included',\n",
       "       'No check-in baggage included', '1 Short layover', 'No Info',\n",
       "       '1 Long layover', 'Change airports', 'Business class',\n",
       "       'Red-eye flight', '2 Long layover'], dtype=object)"
      ]
     },
     "execution_count": 264,
     "metadata": {},
     "output_type": "execute_result"
    }
   ],
   "source": [
    "df.Additional_Info.unique()"
   ]
  },
  {
   "cell_type": "code",
   "execution_count": 265,
   "id": "80b4c9bc",
   "metadata": {},
   "outputs": [
    {
     "name": "stdout",
     "output_type": "stream",
     "text": [
      "<class 'pandas.core.frame.DataFrame'>\n",
      "RangeIndex: 13354 entries, 0 to 13353\n",
      "Data columns (total 14 columns):\n",
      " #   Column           Non-Null Count  Dtype  \n",
      "---  ------           --------------  -----  \n",
      " 0   Airline          13354 non-null  object \n",
      " 1   Source           13354 non-null  object \n",
      " 2   Destination      13354 non-null  object \n",
      " 3   Duration         13354 non-null  object \n",
      " 4   Total_Stops      13354 non-null  int64  \n",
      " 5   Additional_Info  13354 non-null  object \n",
      " 6   Price            10683 non-null  float64\n",
      " 7   Date             13354 non-null  int64  \n",
      " 8   Month            13354 non-null  int64  \n",
      " 9   Year             13354 non-null  int64  \n",
      " 10  Arrival_hour     13354 non-null  int64  \n",
      " 11  Arrival_mint     13354 non-null  int64  \n",
      " 12  Dept_hours       13354 non-null  int64  \n",
      " 13  Dept_mint        13354 non-null  int64  \n",
      "dtypes: float64(1), int64(8), object(5)\n",
      "memory usage: 1.4+ MB\n"
     ]
    }
   ],
   "source": [
    "df.info()"
   ]
  },
  {
   "cell_type": "code",
   "execution_count": 285,
   "id": "5263a8bd",
   "metadata": {},
   "outputs": [
    {
     "data": {
      "text/plain": [
       "0         2\n",
       "1         7\n",
       "2        19\n",
       "3         5\n",
       "4         4\n",
       "         ..\n",
       "13349    23\n",
       "13350     2\n",
       "13351     6\n",
       "13352    15\n",
       "13353    14\n",
       "Name: Duration, Length: 13354, dtype: object"
      ]
     },
     "execution_count": 285,
     "metadata": {},
     "output_type": "execute_result"
    }
   ],
   "source": [
    "df.Duration.str.split('h').str[0]"
   ]
  },
  {
   "cell_type": "code",
   "execution_count": 287,
   "id": "bcdcc67c",
   "metadata": {},
   "outputs": [],
   "source": [
    "df['duration_hours']=df.Duration.str.split('h').str[0]"
   ]
  },
  {
   "cell_type": "code",
   "execution_count": 289,
   "id": "dcd468da",
   "metadata": {},
   "outputs": [
    {
     "data": {
      "text/plain": [
       "0         2\n",
       "1         7\n",
       "2        19\n",
       "3         5\n",
       "4         4\n",
       "         ..\n",
       "13349    23\n",
       "13350     2\n",
       "13351     6\n",
       "13352    15\n",
       "13353    14\n",
       "Name: duration_hours, Length: 13354, dtype: object"
      ]
     },
     "execution_count": 289,
     "metadata": {},
     "output_type": "execute_result"
    }
   ],
   "source": [
    "df['duration_hours']"
   ]
  },
  {
   "cell_type": "code",
   "execution_count": 299,
   "id": "d86b1f46",
   "metadata": {},
   "outputs": [],
   "source": [
    "df['duration_hours']=df['duration_hours'].apply(lambda x:x.split('m')[0])"
   ]
  },
  {
   "cell_type": "code",
   "execution_count": 301,
   "id": "8d3961ed",
   "metadata": {},
   "outputs": [
    {
     "data": {
      "text/plain": [
       "array(['2', '7', '19', '5', '4', '15', '21', '25', '13', '12', '26', '22',\n",
       "       '23', '20', '10', '6', '11', '8', '16', '3', '27', '1', '14', '9',\n",
       "       '18', '17', '24', '30', '28', '29', '37', '34', '38', '35', '36',\n",
       "       '47', '33', '32', '31', '42', '39', '41', '40'], dtype=object)"
      ]
     },
     "execution_count": 301,
     "metadata": {},
     "output_type": "execute_result"
    }
   ],
   "source": [
    "df['duration_hours'].unique()"
   ]
  },
  {
   "cell_type": "code",
   "execution_count": 303,
   "id": "106cd6ef",
   "metadata": {},
   "outputs": [],
   "source": [
    "df['duration_hours']=df['duration_hours'].astype('int64')"
   ]
  },
  {
   "cell_type": "code",
   "execution_count": 350,
   "id": "ccec370b",
   "metadata": {},
   "outputs": [],
   "source": [
    "df.drop(6474,axis=0,inplace=True)\n",
    "df.drop(2660,axis=0,inplace=True)"
   ]
  },
  {
   "cell_type": "code",
   "execution_count": 305,
   "id": "e9af4214",
   "metadata": {},
   "outputs": [],
   "source": [
    "df['duration_hours']=df['duration_hours'].apply(lambda x:x*60)"
   ]
  },
  {
   "cell_type": "code",
   "execution_count": 314,
   "id": "b8c38cc6",
   "metadata": {},
   "outputs": [],
   "source": [
    "df['duration_mint']=df.Duration.str.split(' ').str[1]"
   ]
  },
  {
   "cell_type": "code",
   "execution_count": 315,
   "id": "c0f45fc8",
   "metadata": {},
   "outputs": [
    {
     "data": {
      "text/plain": [
       "array(['50m', '25m', nan, '45m', '30m', '5m', '15m', '35m', '10m', '20m',\n",
       "       '55m', '40m'], dtype=object)"
      ]
     },
     "execution_count": 315,
     "metadata": {},
     "output_type": "execute_result"
    }
   ],
   "source": [
    "df['duration_mint'].unique()"
   ]
  },
  {
   "cell_type": "code",
   "execution_count": null,
   "id": "36bd8ff9",
   "metadata": {},
   "outputs": [],
   "source": []
  },
  {
   "cell_type": "code",
   "execution_count": 321,
   "id": "518a53ad",
   "metadata": {},
   "outputs": [
    {
     "data": {
      "text/plain": [
       "array(['50m', '25m', nan, '45m', '30m', '5m', '15m', '35m', '10m', '20m',\n",
       "       '55m', '40m'], dtype=object)"
      ]
     },
     "execution_count": 321,
     "metadata": {},
     "output_type": "execute_result"
    }
   ],
   "source": [
    "df['duration_mint'].unique()"
   ]
  },
  {
   "cell_type": "code",
   "execution_count": 328,
   "id": "c01d85d1",
   "metadata": {},
   "outputs": [
    {
     "data": {
      "text/plain": [
       "1286"
      ]
     },
     "execution_count": 328,
     "metadata": {},
     "output_type": "execute_result"
    }
   ],
   "source": [
    "df['duration_mint'].isnull().sum()"
   ]
  },
  {
   "cell_type": "code",
   "execution_count": 331,
   "id": "b41b708e",
   "metadata": {},
   "outputs": [
    {
     "data": {
      "text/plain": [
       "Airline             object\n",
       "Source              object\n",
       "Destination         object\n",
       "Duration            object\n",
       "Total_Stops          int64\n",
       "Additional_Info     object\n",
       "Price              float64\n",
       "Date                 int64\n",
       "Month                int64\n",
       "Year                 int64\n",
       "Arrival_hour         int64\n",
       "Arrival_mint         int64\n",
       "Dept_hours           int64\n",
       "Dept_mint            int64\n",
       "duration_hours       int64\n",
       "duration_mint       object\n",
       "dtype: object"
      ]
     },
     "execution_count": 331,
     "metadata": {},
     "output_type": "execute_result"
    }
   ],
   "source": [
    "df.dtypes"
   ]
  },
  {
   "cell_type": "code",
   "execution_count": 345,
   "id": "06a289dc",
   "metadata": {},
   "outputs": [
    {
     "data": {
      "text/plain": [
       "0        50m\n",
       "1        25m\n",
       "2          0\n",
       "3        25m\n",
       "4        45m\n",
       "        ... \n",
       "13349    55m\n",
       "13350    35m\n",
       "13351    35m\n",
       "13352    15m\n",
       "13353    20m\n",
       "Name: duration_mint, Length: 13354, dtype: object"
      ]
     },
     "execution_count": 345,
     "metadata": {},
     "output_type": "execute_result"
    }
   ],
   "source": [
    "df['duration_mint'].fillna(0)"
   ]
  },
  {
   "cell_type": "code",
   "execution_count": 346,
   "id": "4738e473",
   "metadata": {},
   "outputs": [
    {
     "data": {
      "text/plain": [
       "1286"
      ]
     },
     "execution_count": 346,
     "metadata": {},
     "output_type": "execute_result"
    }
   ],
   "source": [
    "df['duration_mint'].isnull().sum()"
   ]
  },
  {
   "cell_type": "code",
   "execution_count": 351,
   "id": "985e0202",
   "metadata": {},
   "outputs": [
    {
     "data": {
      "text/plain": [
       "array(['50m', '25m', nan, '45m', '30m', '5m', '15m', '35m', '10m', '20m',\n",
       "       '55m', '40m'], dtype=object)"
      ]
     },
     "execution_count": 351,
     "metadata": {},
     "output_type": "execute_result"
    }
   ],
   "source": [
    "df['duration_mint'].unique()"
   ]
  },
  {
   "cell_type": "code",
   "execution_count": 361,
   "id": "f5507928",
   "metadata": {},
   "outputs": [
    {
     "data": {
      "text/plain": [
       "0         50\n",
       "1         25\n",
       "2        NaN\n",
       "3         25\n",
       "4         45\n",
       "        ... \n",
       "13349     55\n",
       "13350     35\n",
       "13351     35\n",
       "13352     15\n",
       "13353     20\n",
       "Name: duration_mint, Length: 13352, dtype: object"
      ]
     },
     "execution_count": 361,
     "metadata": {},
     "output_type": "execute_result"
    }
   ],
   "source": [
    "df.duration_mint.str.split('m').str[0]"
   ]
  },
  {
   "cell_type": "code",
   "execution_count": 357,
   "id": "19cbcdcd",
   "metadata": {},
   "outputs": [
    {
     "data": {
      "text/plain": [
       "1284"
      ]
     },
     "execution_count": 357,
     "metadata": {},
     "output_type": "execute_result"
    }
   ],
   "source": [
    "df.duration_mint.isnull().sum()"
   ]
  },
  {
   "cell_type": "code",
   "execution_count": 355,
   "id": "1a2c9f9d",
   "metadata": {},
   "outputs": [
    {
     "data": {
      "text/html": [
       "<div>\n",
       "<style scoped>\n",
       "    .dataframe tbody tr th:only-of-type {\n",
       "        vertical-align: middle;\n",
       "    }\n",
       "\n",
       "    .dataframe tbody tr th {\n",
       "        vertical-align: top;\n",
       "    }\n",
       "\n",
       "    .dataframe thead th {\n",
       "        text-align: right;\n",
       "    }\n",
       "</style>\n",
       "<table border=\"1\" class=\"dataframe\">\n",
       "  <thead>\n",
       "    <tr style=\"text-align: right;\">\n",
       "      <th></th>\n",
       "      <th>Airline</th>\n",
       "      <th>Source</th>\n",
       "      <th>Destination</th>\n",
       "      <th>Duration</th>\n",
       "      <th>Total_Stops</th>\n",
       "      <th>Additional_Info</th>\n",
       "      <th>Price</th>\n",
       "      <th>Date</th>\n",
       "      <th>Month</th>\n",
       "      <th>Year</th>\n",
       "      <th>Arrival_hour</th>\n",
       "      <th>Arrival_mint</th>\n",
       "      <th>Dept_hours</th>\n",
       "      <th>Dept_mint</th>\n",
       "      <th>duration_hours</th>\n",
       "      <th>duration_mint</th>\n",
       "    </tr>\n",
       "  </thead>\n",
       "  <tbody>\n",
       "    <tr>\n",
       "      <th>2</th>\n",
       "      <td>Jet Airways</td>\n",
       "      <td>Delhi</td>\n",
       "      <td>Cochin</td>\n",
       "      <td>19h</td>\n",
       "      <td>2</td>\n",
       "      <td>No info</td>\n",
       "      <td>13882.0</td>\n",
       "      <td>9</td>\n",
       "      <td>6</td>\n",
       "      <td>2019</td>\n",
       "      <td>4</td>\n",
       "      <td>25</td>\n",
       "      <td>9</td>\n",
       "      <td>25</td>\n",
       "      <td>1140</td>\n",
       "      <td>NaN</td>\n",
       "    </tr>\n",
       "    <tr>\n",
       "      <th>18</th>\n",
       "      <td>Air India</td>\n",
       "      <td>Delhi</td>\n",
       "      <td>Cochin</td>\n",
       "      <td>23h</td>\n",
       "      <td>2</td>\n",
       "      <td>No info</td>\n",
       "      <td>13381.0</td>\n",
       "      <td>12</td>\n",
       "      <td>6</td>\n",
       "      <td>2019</td>\n",
       "      <td>19</td>\n",
       "      <td>15</td>\n",
       "      <td>20</td>\n",
       "      <td>15</td>\n",
       "      <td>1380</td>\n",
       "      <td>NaN</td>\n",
       "    </tr>\n",
       "    <tr>\n",
       "      <th>33</th>\n",
       "      <td>Jet Airways</td>\n",
       "      <td>Delhi</td>\n",
       "      <td>Cochin</td>\n",
       "      <td>22h</td>\n",
       "      <td>2</td>\n",
       "      <td>In-flight meal not included</td>\n",
       "      <td>10919.0</td>\n",
       "      <td>15</td>\n",
       "      <td>6</td>\n",
       "      <td>2019</td>\n",
       "      <td>12</td>\n",
       "      <td>35</td>\n",
       "      <td>14</td>\n",
       "      <td>35</td>\n",
       "      <td>1320</td>\n",
       "      <td>NaN</td>\n",
       "    </tr>\n",
       "    <tr>\n",
       "      <th>44</th>\n",
       "      <td>Multiple carriers</td>\n",
       "      <td>Delhi</td>\n",
       "      <td>Cochin</td>\n",
       "      <td>12h</td>\n",
       "      <td>1</td>\n",
       "      <td>No info</td>\n",
       "      <td>13062.0</td>\n",
       "      <td>21</td>\n",
       "      <td>3</td>\n",
       "      <td>2019</td>\n",
       "      <td>21</td>\n",
       "      <td>0</td>\n",
       "      <td>9</td>\n",
       "      <td>0</td>\n",
       "      <td>720</td>\n",
       "      <td>NaN</td>\n",
       "    </tr>\n",
       "    <tr>\n",
       "      <th>53</th>\n",
       "      <td>IndiGo</td>\n",
       "      <td>Banglore</td>\n",
       "      <td>Delhi</td>\n",
       "      <td>3h</td>\n",
       "      <td>0</td>\n",
       "      <td>No info</td>\n",
       "      <td>3943.0</td>\n",
       "      <td>18</td>\n",
       "      <td>6</td>\n",
       "      <td>2019</td>\n",
       "      <td>0</td>\n",
       "      <td>15</td>\n",
       "      <td>21</td>\n",
       "      <td>15</td>\n",
       "      <td>180</td>\n",
       "      <td>NaN</td>\n",
       "    </tr>\n",
       "    <tr>\n",
       "      <th>...</th>\n",
       "      <td>...</td>\n",
       "      <td>...</td>\n",
       "      <td>...</td>\n",
       "      <td>...</td>\n",
       "      <td>...</td>\n",
       "      <td>...</td>\n",
       "      <td>...</td>\n",
       "      <td>...</td>\n",
       "      <td>...</td>\n",
       "      <td>...</td>\n",
       "      <td>...</td>\n",
       "      <td>...</td>\n",
       "      <td>...</td>\n",
       "      <td>...</td>\n",
       "      <td>...</td>\n",
       "      <td>...</td>\n",
       "    </tr>\n",
       "    <tr>\n",
       "      <th>13281</th>\n",
       "      <td>Jet Airways</td>\n",
       "      <td>Delhi</td>\n",
       "      <td>Cochin</td>\n",
       "      <td>11h</td>\n",
       "      <td>1</td>\n",
       "      <td>No info</td>\n",
       "      <td>NaN</td>\n",
       "      <td>9</td>\n",
       "      <td>6</td>\n",
       "      <td>2019</td>\n",
       "      <td>19</td>\n",
       "      <td>0</td>\n",
       "      <td>8</td>\n",
       "      <td>0</td>\n",
       "      <td>660</td>\n",
       "      <td>NaN</td>\n",
       "    </tr>\n",
       "    <tr>\n",
       "      <th>13287</th>\n",
       "      <td>Multiple carriers</td>\n",
       "      <td>Delhi</td>\n",
       "      <td>Cochin</td>\n",
       "      <td>10h</td>\n",
       "      <td>1</td>\n",
       "      <td>No info</td>\n",
       "      <td>NaN</td>\n",
       "      <td>12</td>\n",
       "      <td>6</td>\n",
       "      <td>2019</td>\n",
       "      <td>19</td>\n",
       "      <td>15</td>\n",
       "      <td>9</td>\n",
       "      <td>15</td>\n",
       "      <td>600</td>\n",
       "      <td>NaN</td>\n",
       "    </tr>\n",
       "    <tr>\n",
       "      <th>13290</th>\n",
       "      <td>Multiple carriers</td>\n",
       "      <td>Delhi</td>\n",
       "      <td>Cochin</td>\n",
       "      <td>13h</td>\n",
       "      <td>1</td>\n",
       "      <td>No info</td>\n",
       "      <td>NaN</td>\n",
       "      <td>3</td>\n",
       "      <td>3</td>\n",
       "      <td>2019</td>\n",
       "      <td>21</td>\n",
       "      <td>0</td>\n",
       "      <td>8</td>\n",
       "      <td>0</td>\n",
       "      <td>780</td>\n",
       "      <td>NaN</td>\n",
       "    </tr>\n",
       "    <tr>\n",
       "      <th>13305</th>\n",
       "      <td>Jet Airways</td>\n",
       "      <td>Banglore</td>\n",
       "      <td>Delhi</td>\n",
       "      <td>3h</td>\n",
       "      <td>0</td>\n",
       "      <td>In-flight meal not included</td>\n",
       "      <td>NaN</td>\n",
       "      <td>3</td>\n",
       "      <td>5</td>\n",
       "      <td>2019</td>\n",
       "      <td>20</td>\n",
       "      <td>45</td>\n",
       "      <td>17</td>\n",
       "      <td>45</td>\n",
       "      <td>180</td>\n",
       "      <td>NaN</td>\n",
       "    </tr>\n",
       "    <tr>\n",
       "      <th>13343</th>\n",
       "      <td>Air India</td>\n",
       "      <td>Mumbai</td>\n",
       "      <td>Hyderabad</td>\n",
       "      <td>5m</td>\n",
       "      <td>2</td>\n",
       "      <td>No info</td>\n",
       "      <td>NaN</td>\n",
       "      <td>12</td>\n",
       "      <td>3</td>\n",
       "      <td>2019</td>\n",
       "      <td>16</td>\n",
       "      <td>55</td>\n",
       "      <td>16</td>\n",
       "      <td>50</td>\n",
       "      <td>300</td>\n",
       "      <td>NaN</td>\n",
       "    </tr>\n",
       "  </tbody>\n",
       "</table>\n",
       "<p>1284 rows × 16 columns</p>\n",
       "</div>"
      ],
      "text/plain": [
       "                 Airline    Source Destination Duration  Total_Stops  \\\n",
       "2            Jet Airways     Delhi      Cochin      19h            2   \n",
       "18             Air India     Delhi      Cochin      23h            2   \n",
       "33           Jet Airways     Delhi      Cochin      22h            2   \n",
       "44     Multiple carriers     Delhi      Cochin      12h            1   \n",
       "53                IndiGo  Banglore       Delhi       3h            0   \n",
       "...                  ...       ...         ...      ...          ...   \n",
       "13281        Jet Airways     Delhi      Cochin      11h            1   \n",
       "13287  Multiple carriers     Delhi      Cochin      10h            1   \n",
       "13290  Multiple carriers     Delhi      Cochin      13h            1   \n",
       "13305        Jet Airways  Banglore       Delhi       3h            0   \n",
       "13343          Air India    Mumbai   Hyderabad       5m            2   \n",
       "\n",
       "                   Additional_Info    Price  Date  Month  Year  Arrival_hour  \\\n",
       "2                          No info  13882.0     9      6  2019             4   \n",
       "18                         No info  13381.0    12      6  2019            19   \n",
       "33     In-flight meal not included  10919.0    15      6  2019            12   \n",
       "44                         No info  13062.0    21      3  2019            21   \n",
       "53                         No info   3943.0    18      6  2019             0   \n",
       "...                            ...      ...   ...    ...   ...           ...   \n",
       "13281                      No info      NaN     9      6  2019            19   \n",
       "13287                      No info      NaN    12      6  2019            19   \n",
       "13290                      No info      NaN     3      3  2019            21   \n",
       "13305  In-flight meal not included      NaN     3      5  2019            20   \n",
       "13343                      No info      NaN    12      3  2019            16   \n",
       "\n",
       "       Arrival_mint  Dept_hours  Dept_mint  duration_hours duration_mint  \n",
       "2                25           9         25            1140           NaN  \n",
       "18               15          20         15            1380           NaN  \n",
       "33               35          14         35            1320           NaN  \n",
       "44                0           9          0             720           NaN  \n",
       "53               15          21         15             180           NaN  \n",
       "...             ...         ...        ...             ...           ...  \n",
       "13281             0           8          0             660           NaN  \n",
       "13287            15           9         15             600           NaN  \n",
       "13290             0           8          0             780           NaN  \n",
       "13305            45          17         45             180           NaN  \n",
       "13343            55          16         50             300           NaN  \n",
       "\n",
       "[1284 rows x 16 columns]"
      ]
     },
     "execution_count": 355,
     "metadata": {},
     "output_type": "execute_result"
    }
   ],
   "source": [
    "df[df['duration_mint'].isnull()]"
   ]
  },
  {
   "cell_type": "code",
   "execution_count": 362,
   "id": "ca422dc6",
   "metadata": {},
   "outputs": [],
   "source": [
    "df['duration_mint']=df.duration_mint.str.split('m').str[0]"
   ]
  },
  {
   "cell_type": "code",
   "execution_count": 368,
   "id": "687a64f8",
   "metadata": {},
   "outputs": [
    {
     "data": {
      "text/plain": [
       "1284"
      ]
     },
     "execution_count": 368,
     "metadata": {},
     "output_type": "execute_result"
    }
   ],
   "source": [
    "df['duration_mint'].isnull().sum()"
   ]
  },
  {
   "cell_type": "code",
   "execution_count": 370,
   "id": "49c6ba08",
   "metadata": {},
   "outputs": [],
   "source": [
    "df['duration_mint']=df['duration_mint'].replace(np.nan,0)"
   ]
  },
  {
   "cell_type": "code",
   "execution_count": 372,
   "id": "aa80d047",
   "metadata": {},
   "outputs": [
    {
     "data": {
      "text/plain": [
       "0"
      ]
     },
     "execution_count": 372,
     "metadata": {},
     "output_type": "execute_result"
    }
   ],
   "source": [
    "df['duration_mint'].isnull().sum()"
   ]
  },
  {
   "cell_type": "code",
   "execution_count": 375,
   "id": "15903546",
   "metadata": {},
   "outputs": [
    {
     "data": {
      "text/plain": [
       "Airline             object\n",
       "Source              object\n",
       "Destination         object\n",
       "Duration            object\n",
       "Total_Stops          int64\n",
       "Additional_Info     object\n",
       "Price              float64\n",
       "Date                 int64\n",
       "Month                int64\n",
       "Year                 int64\n",
       "Arrival_hour         int64\n",
       "Arrival_mint         int64\n",
       "Dept_hours           int64\n",
       "Dept_mint            int64\n",
       "duration_hours       int64\n",
       "duration_mint       object\n",
       "dtype: object"
      ]
     },
     "execution_count": 375,
     "metadata": {},
     "output_type": "execute_result"
    }
   ],
   "source": [
    "df.dtypes"
   ]
  },
  {
   "cell_type": "code",
   "execution_count": 377,
   "id": "5a9b8278",
   "metadata": {},
   "outputs": [],
   "source": [
    "df['duration_mint']=df['duration_mint'].astype('int64')"
   ]
  },
  {
   "cell_type": "code",
   "execution_count": 378,
   "id": "bf39d1c6",
   "metadata": {},
   "outputs": [
    {
     "data": {
      "text/plain": [
       "0         170\n",
       "1         445\n",
       "2        1140\n",
       "3         325\n",
       "4         285\n",
       "         ... \n",
       "13349    1435\n",
       "13350     155\n",
       "13351     395\n",
       "13352     915\n",
       "13353     860\n",
       "Length: 13352, dtype: int64"
      ]
     },
     "execution_count": 378,
     "metadata": {},
     "output_type": "execute_result"
    }
   ],
   "source": [
    "df['duration_hours']+df['duration_mint']"
   ]
  },
  {
   "cell_type": "code",
   "execution_count": 379,
   "id": "69a95759",
   "metadata": {},
   "outputs": [],
   "source": [
    "df['Duration']=df['duration_hours']+df['duration_mint']"
   ]
  },
  {
   "cell_type": "code",
   "execution_count": 382,
   "id": "d0bbcaf2",
   "metadata": {},
   "outputs": [],
   "source": [
    "df.drop(['duration_mint','duration_hours'],axis=1,inplace=True)"
   ]
  },
  {
   "cell_type": "code",
   "execution_count": 383,
   "id": "c7d2f0df",
   "metadata": {},
   "outputs": [
    {
     "data": {
      "text/html": [
       "<div>\n",
       "<style scoped>\n",
       "    .dataframe tbody tr th:only-of-type {\n",
       "        vertical-align: middle;\n",
       "    }\n",
       "\n",
       "    .dataframe tbody tr th {\n",
       "        vertical-align: top;\n",
       "    }\n",
       "\n",
       "    .dataframe thead th {\n",
       "        text-align: right;\n",
       "    }\n",
       "</style>\n",
       "<table border=\"1\" class=\"dataframe\">\n",
       "  <thead>\n",
       "    <tr style=\"text-align: right;\">\n",
       "      <th></th>\n",
       "      <th>Airline</th>\n",
       "      <th>Source</th>\n",
       "      <th>Destination</th>\n",
       "      <th>Duration</th>\n",
       "      <th>Total_Stops</th>\n",
       "      <th>Additional_Info</th>\n",
       "      <th>Price</th>\n",
       "      <th>Date</th>\n",
       "      <th>Month</th>\n",
       "      <th>Year</th>\n",
       "      <th>Arrival_hour</th>\n",
       "      <th>Arrival_mint</th>\n",
       "      <th>Dept_hours</th>\n",
       "      <th>Dept_mint</th>\n",
       "    </tr>\n",
       "  </thead>\n",
       "  <tbody>\n",
       "    <tr>\n",
       "      <th>0</th>\n",
       "      <td>IndiGo</td>\n",
       "      <td>Banglore</td>\n",
       "      <td>New Delhi</td>\n",
       "      <td>170</td>\n",
       "      <td>0</td>\n",
       "      <td>No info</td>\n",
       "      <td>3897.0</td>\n",
       "      <td>24</td>\n",
       "      <td>3</td>\n",
       "      <td>2019</td>\n",
       "      <td>1</td>\n",
       "      <td>10</td>\n",
       "      <td>22</td>\n",
       "      <td>20</td>\n",
       "    </tr>\n",
       "    <tr>\n",
       "      <th>1</th>\n",
       "      <td>Air India</td>\n",
       "      <td>Kolkata</td>\n",
       "      <td>Banglore</td>\n",
       "      <td>445</td>\n",
       "      <td>2</td>\n",
       "      <td>No info</td>\n",
       "      <td>7662.0</td>\n",
       "      <td>1</td>\n",
       "      <td>5</td>\n",
       "      <td>2019</td>\n",
       "      <td>13</td>\n",
       "      <td>15</td>\n",
       "      <td>5</td>\n",
       "      <td>50</td>\n",
       "    </tr>\n",
       "    <tr>\n",
       "      <th>2</th>\n",
       "      <td>Jet Airways</td>\n",
       "      <td>Delhi</td>\n",
       "      <td>Cochin</td>\n",
       "      <td>1140</td>\n",
       "      <td>2</td>\n",
       "      <td>No info</td>\n",
       "      <td>13882.0</td>\n",
       "      <td>9</td>\n",
       "      <td>6</td>\n",
       "      <td>2019</td>\n",
       "      <td>4</td>\n",
       "      <td>25</td>\n",
       "      <td>9</td>\n",
       "      <td>25</td>\n",
       "    </tr>\n",
       "    <tr>\n",
       "      <th>3</th>\n",
       "      <td>IndiGo</td>\n",
       "      <td>Kolkata</td>\n",
       "      <td>Banglore</td>\n",
       "      <td>325</td>\n",
       "      <td>1</td>\n",
       "      <td>No info</td>\n",
       "      <td>6218.0</td>\n",
       "      <td>12</td>\n",
       "      <td>5</td>\n",
       "      <td>2019</td>\n",
       "      <td>23</td>\n",
       "      <td>30</td>\n",
       "      <td>18</td>\n",
       "      <td>5</td>\n",
       "    </tr>\n",
       "    <tr>\n",
       "      <th>4</th>\n",
       "      <td>IndiGo</td>\n",
       "      <td>Banglore</td>\n",
       "      <td>New Delhi</td>\n",
       "      <td>285</td>\n",
       "      <td>1</td>\n",
       "      <td>No info</td>\n",
       "      <td>13302.0</td>\n",
       "      <td>1</td>\n",
       "      <td>3</td>\n",
       "      <td>2019</td>\n",
       "      <td>21</td>\n",
       "      <td>35</td>\n",
       "      <td>16</td>\n",
       "      <td>50</td>\n",
       "    </tr>\n",
       "  </tbody>\n",
       "</table>\n",
       "</div>"
      ],
      "text/plain": [
       "       Airline    Source Destination  Duration  Total_Stops Additional_Info  \\\n",
       "0       IndiGo  Banglore   New Delhi       170            0         No info   \n",
       "1    Air India   Kolkata    Banglore       445            2         No info   \n",
       "2  Jet Airways     Delhi      Cochin      1140            2         No info   \n",
       "3       IndiGo   Kolkata    Banglore       325            1         No info   \n",
       "4       IndiGo  Banglore   New Delhi       285            1         No info   \n",
       "\n",
       "     Price  Date  Month  Year  Arrival_hour  Arrival_mint  Dept_hours  \\\n",
       "0   3897.0    24      3  2019             1            10          22   \n",
       "1   7662.0     1      5  2019            13            15           5   \n",
       "2  13882.0     9      6  2019             4            25           9   \n",
       "3   6218.0    12      5  2019            23            30          18   \n",
       "4  13302.0     1      3  2019            21            35          16   \n",
       "\n",
       "   Dept_mint  \n",
       "0         20  \n",
       "1         50  \n",
       "2         25  \n",
       "3          5  \n",
       "4         50  "
      ]
     },
     "execution_count": 383,
     "metadata": {},
     "output_type": "execute_result"
    }
   ],
   "source": [
    "df.head()"
   ]
  },
  {
   "cell_type": "code",
   "execution_count": 384,
   "id": "7d58e3e8",
   "metadata": {},
   "outputs": [
    {
     "data": {
      "text/plain": [
       "Airline             object\n",
       "Source              object\n",
       "Destination         object\n",
       "Duration             int64\n",
       "Total_Stops          int64\n",
       "Additional_Info     object\n",
       "Price              float64\n",
       "Date                 int64\n",
       "Month                int64\n",
       "Year                 int64\n",
       "Arrival_hour         int64\n",
       "Arrival_mint         int64\n",
       "Dept_hours           int64\n",
       "Dept_mint            int64\n",
       "dtype: object"
      ]
     },
     "execution_count": 384,
     "metadata": {},
     "output_type": "execute_result"
    }
   ],
   "source": [
    "df.dtypes"
   ]
  },
  {
   "cell_type": "code",
   "execution_count": 385,
   "id": "d96b39cb",
   "metadata": {},
   "outputs": [
    {
     "data": {
      "text/plain": [
       "0                   IndiGo\n",
       "1                Air India\n",
       "2              Jet Airways\n",
       "3                   IndiGo\n",
       "4                   IndiGo\n",
       "               ...        \n",
       "13349            Air India\n",
       "13350               IndiGo\n",
       "13351          Jet Airways\n",
       "13352            Air India\n",
       "13353    Multiple carriers\n",
       "Name: Airline, Length: 13352, dtype: object"
      ]
     },
     "execution_count": 385,
     "metadata": {},
     "output_type": "execute_result"
    }
   ],
   "source": [
    "df['Airline']"
   ]
  },
  {
   "cell_type": "markdown",
   "id": "79db4f6e",
   "metadata": {},
   "source": [
    "##### Performing Label encoding and OnehotEncoding"
   ]
  },
  {
   "cell_type": "code",
   "execution_count": 386,
   "id": "1459514f",
   "metadata": {},
   "outputs": [],
   "source": [
    "from sklearn.preprocessing import LabelEncoder\n",
    "label_encod= LabelEncoder()"
   ]
  },
  {
   "cell_type": "code",
   "execution_count": 388,
   "id": "bfc87ede",
   "metadata": {},
   "outputs": [],
   "source": [
    "df['Airline']=label_encod.fit_transform(df['Airline'])"
   ]
  },
  {
   "cell_type": "code",
   "execution_count": 391,
   "id": "9f011188",
   "metadata": {},
   "outputs": [],
   "source": [
    "df['Source']=label_encod.fit_transform(df['Source'])\n",
    "df['Destination']=label_encod.fit_transform(df['Destination'])\n",
    "df['Additional_Info']=label_encod.fit_transform(df['Additional_Info'])\n"
   ]
  },
  {
   "cell_type": "code",
   "execution_count": 396,
   "id": "4dceae27",
   "metadata": {},
   "outputs": [
    {
     "data": {
      "text/html": [
       "<div>\n",
       "<style scoped>\n",
       "    .dataframe tbody tr th:only-of-type {\n",
       "        vertical-align: middle;\n",
       "    }\n",
       "\n",
       "    .dataframe tbody tr th {\n",
       "        vertical-align: top;\n",
       "    }\n",
       "\n",
       "    .dataframe thead th {\n",
       "        text-align: right;\n",
       "    }\n",
       "</style>\n",
       "<table border=\"1\" class=\"dataframe\">\n",
       "  <thead>\n",
       "    <tr style=\"text-align: right;\">\n",
       "      <th></th>\n",
       "      <th>Airline</th>\n",
       "      <th>Source</th>\n",
       "      <th>Destination</th>\n",
       "      <th>Duration</th>\n",
       "      <th>Total_Stops</th>\n",
       "      <th>Additional_Info</th>\n",
       "      <th>Price</th>\n",
       "      <th>Date</th>\n",
       "      <th>Month</th>\n",
       "      <th>Year</th>\n",
       "      <th>Arrival_hour</th>\n",
       "      <th>Arrival_mint</th>\n",
       "      <th>Dept_hours</th>\n",
       "      <th>Dept_mint</th>\n",
       "    </tr>\n",
       "  </thead>\n",
       "  <tbody>\n",
       "    <tr>\n",
       "      <th>1362</th>\n",
       "      <td>4</td>\n",
       "      <td>2</td>\n",
       "      <td>1</td>\n",
       "      <td>1775</td>\n",
       "      <td>2</td>\n",
       "      <td>8</td>\n",
       "      <td>15129.0</td>\n",
       "      <td>21</td>\n",
       "      <td>5</td>\n",
       "      <td>2019</td>\n",
       "      <td>19</td>\n",
       "      <td>0</td>\n",
       "      <td>13</td>\n",
       "      <td>25</td>\n",
       "    </tr>\n",
       "    <tr>\n",
       "      <th>1849</th>\n",
       "      <td>4</td>\n",
       "      <td>0</td>\n",
       "      <td>2</td>\n",
       "      <td>165</td>\n",
       "      <td>0</td>\n",
       "      <td>5</td>\n",
       "      <td>4030.0</td>\n",
       "      <td>15</td>\n",
       "      <td>5</td>\n",
       "      <td>2019</td>\n",
       "      <td>8</td>\n",
       "      <td>45</td>\n",
       "      <td>6</td>\n",
       "      <td>0</td>\n",
       "    </tr>\n",
       "    <tr>\n",
       "      <th>5391</th>\n",
       "      <td>4</td>\n",
       "      <td>2</td>\n",
       "      <td>1</td>\n",
       "      <td>1195</td>\n",
       "      <td>2</td>\n",
       "      <td>8</td>\n",
       "      <td>12819.0</td>\n",
       "      <td>24</td>\n",
       "      <td>6</td>\n",
       "      <td>2019</td>\n",
       "      <td>19</td>\n",
       "      <td>0</td>\n",
       "      <td>23</td>\n",
       "      <td>5</td>\n",
       "    </tr>\n",
       "    <tr>\n",
       "      <th>797</th>\n",
       "      <td>6</td>\n",
       "      <td>2</td>\n",
       "      <td>1</td>\n",
       "      <td>750</td>\n",
       "      <td>1</td>\n",
       "      <td>5</td>\n",
       "      <td>6943.0</td>\n",
       "      <td>27</td>\n",
       "      <td>5</td>\n",
       "      <td>2019</td>\n",
       "      <td>1</td>\n",
       "      <td>30</td>\n",
       "      <td>13</td>\n",
       "      <td>0</td>\n",
       "    </tr>\n",
       "  </tbody>\n",
       "</table>\n",
       "</div>"
      ],
      "text/plain": [
       "      Airline  Source  Destination  Duration  Total_Stops  Additional_Info  \\\n",
       "1362        4       2            1      1775            2                8   \n",
       "1849        4       0            2       165            0                5   \n",
       "5391        4       2            1      1195            2                8   \n",
       "797         6       2            1       750            1                5   \n",
       "\n",
       "        Price  Date  Month  Year  Arrival_hour  Arrival_mint  Dept_hours  \\\n",
       "1362  15129.0    21      5  2019            19             0          13   \n",
       "1849   4030.0    15      5  2019             8            45           6   \n",
       "5391  12819.0    24      6  2019            19             0          23   \n",
       "797    6943.0    27      5  2019             1            30          13   \n",
       "\n",
       "      Dept_mint  \n",
       "1362         25  \n",
       "1849          0  \n",
       "5391          5  \n",
       "797           0  "
      ]
     },
     "execution_count": 396,
     "metadata": {},
     "output_type": "execute_result"
    }
   ],
   "source": [
    "df.sample(4)"
   ]
  },
  {
   "cell_type": "code",
   "execution_count": 397,
   "id": "150364f5",
   "metadata": {},
   "outputs": [
    {
     "data": {
      "text/plain": [
       "Airline              int32\n",
       "Source               int64\n",
       "Destination          int64\n",
       "Duration             int64\n",
       "Total_Stops          int64\n",
       "Additional_Info      int32\n",
       "Price              float64\n",
       "Date                 int64\n",
       "Month                int64\n",
       "Year                 int64\n",
       "Arrival_hour         int64\n",
       "Arrival_mint         int64\n",
       "Dept_hours           int64\n",
       "Dept_mint            int64\n",
       "dtype: object"
      ]
     },
     "execution_count": 397,
     "metadata": {},
     "output_type": "execute_result"
    }
   ],
   "source": [
    "df.dtypes"
   ]
  },
  {
   "cell_type": "code",
   "execution_count": 399,
   "id": "9e2a2159",
   "metadata": {},
   "outputs": [],
   "source": [
    "df=pd.get_dummies(df,columns=['Airline','Source','Destination','Additional_Info'],drop_first=True)"
   ]
  },
  {
   "cell_type": "code",
   "execution_count": 400,
   "id": "f5dacf0a",
   "metadata": {},
   "outputs": [
    {
     "data": {
      "text/html": [
       "<div>\n",
       "<style scoped>\n",
       "    .dataframe tbody tr th:only-of-type {\n",
       "        vertical-align: middle;\n",
       "    }\n",
       "\n",
       "    .dataframe tbody tr th {\n",
       "        vertical-align: top;\n",
       "    }\n",
       "\n",
       "    .dataframe thead th {\n",
       "        text-align: right;\n",
       "    }\n",
       "</style>\n",
       "<table border=\"1\" class=\"dataframe\">\n",
       "  <thead>\n",
       "    <tr style=\"text-align: right;\">\n",
       "      <th></th>\n",
       "      <th>Duration</th>\n",
       "      <th>Total_Stops</th>\n",
       "      <th>Price</th>\n",
       "      <th>Date</th>\n",
       "      <th>Month</th>\n",
       "      <th>Year</th>\n",
       "      <th>Arrival_hour</th>\n",
       "      <th>Arrival_mint</th>\n",
       "      <th>Dept_hours</th>\n",
       "      <th>Dept_mint</th>\n",
       "      <th>...</th>\n",
       "      <th>Destination_5</th>\n",
       "      <th>Additional_Info_1</th>\n",
       "      <th>Additional_Info_2</th>\n",
       "      <th>Additional_Info_3</th>\n",
       "      <th>Additional_Info_4</th>\n",
       "      <th>Additional_Info_5</th>\n",
       "      <th>Additional_Info_6</th>\n",
       "      <th>Additional_Info_7</th>\n",
       "      <th>Additional_Info_8</th>\n",
       "      <th>Additional_Info_9</th>\n",
       "    </tr>\n",
       "  </thead>\n",
       "  <tbody>\n",
       "    <tr>\n",
       "      <th>0</th>\n",
       "      <td>170</td>\n",
       "      <td>0</td>\n",
       "      <td>3897.0</td>\n",
       "      <td>24</td>\n",
       "      <td>3</td>\n",
       "      <td>2019</td>\n",
       "      <td>1</td>\n",
       "      <td>10</td>\n",
       "      <td>22</td>\n",
       "      <td>20</td>\n",
       "      <td>...</td>\n",
       "      <td>1</td>\n",
       "      <td>0</td>\n",
       "      <td>0</td>\n",
       "      <td>0</td>\n",
       "      <td>0</td>\n",
       "      <td>0</td>\n",
       "      <td>0</td>\n",
       "      <td>0</td>\n",
       "      <td>1</td>\n",
       "      <td>0</td>\n",
       "    </tr>\n",
       "    <tr>\n",
       "      <th>1</th>\n",
       "      <td>445</td>\n",
       "      <td>2</td>\n",
       "      <td>7662.0</td>\n",
       "      <td>1</td>\n",
       "      <td>5</td>\n",
       "      <td>2019</td>\n",
       "      <td>13</td>\n",
       "      <td>15</td>\n",
       "      <td>5</td>\n",
       "      <td>50</td>\n",
       "      <td>...</td>\n",
       "      <td>0</td>\n",
       "      <td>0</td>\n",
       "      <td>0</td>\n",
       "      <td>0</td>\n",
       "      <td>0</td>\n",
       "      <td>0</td>\n",
       "      <td>0</td>\n",
       "      <td>0</td>\n",
       "      <td>1</td>\n",
       "      <td>0</td>\n",
       "    </tr>\n",
       "    <tr>\n",
       "      <th>2</th>\n",
       "      <td>1140</td>\n",
       "      <td>2</td>\n",
       "      <td>13882.0</td>\n",
       "      <td>9</td>\n",
       "      <td>6</td>\n",
       "      <td>2019</td>\n",
       "      <td>4</td>\n",
       "      <td>25</td>\n",
       "      <td>9</td>\n",
       "      <td>25</td>\n",
       "      <td>...</td>\n",
       "      <td>0</td>\n",
       "      <td>0</td>\n",
       "      <td>0</td>\n",
       "      <td>0</td>\n",
       "      <td>0</td>\n",
       "      <td>0</td>\n",
       "      <td>0</td>\n",
       "      <td>0</td>\n",
       "      <td>1</td>\n",
       "      <td>0</td>\n",
       "    </tr>\n",
       "    <tr>\n",
       "      <th>3</th>\n",
       "      <td>325</td>\n",
       "      <td>1</td>\n",
       "      <td>6218.0</td>\n",
       "      <td>12</td>\n",
       "      <td>5</td>\n",
       "      <td>2019</td>\n",
       "      <td>23</td>\n",
       "      <td>30</td>\n",
       "      <td>18</td>\n",
       "      <td>5</td>\n",
       "      <td>...</td>\n",
       "      <td>0</td>\n",
       "      <td>0</td>\n",
       "      <td>0</td>\n",
       "      <td>0</td>\n",
       "      <td>0</td>\n",
       "      <td>0</td>\n",
       "      <td>0</td>\n",
       "      <td>0</td>\n",
       "      <td>1</td>\n",
       "      <td>0</td>\n",
       "    </tr>\n",
       "    <tr>\n",
       "      <th>4</th>\n",
       "      <td>285</td>\n",
       "      <td>1</td>\n",
       "      <td>13302.0</td>\n",
       "      <td>1</td>\n",
       "      <td>3</td>\n",
       "      <td>2019</td>\n",
       "      <td>21</td>\n",
       "      <td>35</td>\n",
       "      <td>16</td>\n",
       "      <td>50</td>\n",
       "      <td>...</td>\n",
       "      <td>1</td>\n",
       "      <td>0</td>\n",
       "      <td>0</td>\n",
       "      <td>0</td>\n",
       "      <td>0</td>\n",
       "      <td>0</td>\n",
       "      <td>0</td>\n",
       "      <td>0</td>\n",
       "      <td>1</td>\n",
       "      <td>0</td>\n",
       "    </tr>\n",
       "  </tbody>\n",
       "</table>\n",
       "<p>5 rows × 39 columns</p>\n",
       "</div>"
      ],
      "text/plain": [
       "   Duration  Total_Stops    Price  Date  Month  Year  Arrival_hour  \\\n",
       "0       170            0   3897.0    24      3  2019             1   \n",
       "1       445            2   7662.0     1      5  2019            13   \n",
       "2      1140            2  13882.0     9      6  2019             4   \n",
       "3       325            1   6218.0    12      5  2019            23   \n",
       "4       285            1  13302.0     1      3  2019            21   \n",
       "\n",
       "   Arrival_mint  Dept_hours  Dept_mint  ...  Destination_5  Additional_Info_1  \\\n",
       "0            10          22         20  ...              1                  0   \n",
       "1            15           5         50  ...              0                  0   \n",
       "2            25           9         25  ...              0                  0   \n",
       "3            30          18          5  ...              0                  0   \n",
       "4            35          16         50  ...              1                  0   \n",
       "\n",
       "   Additional_Info_2  Additional_Info_3  Additional_Info_4  Additional_Info_5  \\\n",
       "0                  0                  0                  0                  0   \n",
       "1                  0                  0                  0                  0   \n",
       "2                  0                  0                  0                  0   \n",
       "3                  0                  0                  0                  0   \n",
       "4                  0                  0                  0                  0   \n",
       "\n",
       "   Additional_Info_6  Additional_Info_7  Additional_Info_8  Additional_Info_9  \n",
       "0                  0                  0                  1                  0  \n",
       "1                  0                  0                  1                  0  \n",
       "2                  0                  0                  1                  0  \n",
       "3                  0                  0                  1                  0  \n",
       "4                  0                  0                  1                  0  \n",
       "\n",
       "[5 rows x 39 columns]"
      ]
     },
     "execution_count": 400,
     "metadata": {},
     "output_type": "execute_result"
    }
   ],
   "source": [
    "df.head()"
   ]
  },
  {
   "cell_type": "code",
   "execution_count": 411,
   "id": "451055d5",
   "metadata": {},
   "outputs": [],
   "source": [
    "df=df[~df['Price'].isnull()]"
   ]
  },
  {
   "cell_type": "code",
   "execution_count": 405,
   "id": "8e342188",
   "metadata": {},
   "outputs": [
    {
     "data": {
      "text/plain": [
       "Index(['Duration', 'Total_Stops', 'Price', 'Date', 'Month', 'Year',\n",
       "       'Arrival_hour', 'Arrival_mint', 'Dept_hours', 'Dept_mint', 'Airline_1',\n",
       "       'Airline_2', 'Airline_3', 'Airline_4', 'Airline_5', 'Airline_6',\n",
       "       'Airline_7', 'Airline_8', 'Airline_9', 'Airline_10', 'Airline_11',\n",
       "       'Source_1', 'Source_2', 'Source_3', 'Source_4', 'Destination_1',\n",
       "       'Destination_2', 'Destination_3', 'Destination_4', 'Destination_5',\n",
       "       'Additional_Info_1', 'Additional_Info_2', 'Additional_Info_3',\n",
       "       'Additional_Info_4', 'Additional_Info_5', 'Additional_Info_6',\n",
       "       'Additional_Info_7', 'Additional_Info_8', 'Additional_Info_9'],\n",
       "      dtype='object')"
      ]
     },
     "execution_count": 405,
     "metadata": {},
     "output_type": "execute_result"
    }
   ],
   "source": [
    "df_cross_val.columns"
   ]
  },
  {
   "cell_type": "code",
   "execution_count": 407,
   "id": "21b319a0",
   "metadata": {},
   "outputs": [],
   "source": [
    "df_cross_val=df_cross_val[['Duration', 'Total_Stops', 'Date', 'Month', 'Year',\n",
    "       'Arrival_hour', 'Arrival_mint', 'Dept_hours', 'Dept_mint', 'Airline_1',\n",
    "       'Airline_2', 'Airline_3', 'Airline_4', 'Airline_5', 'Airline_6',\n",
    "       'Airline_7', 'Airline_8', 'Airline_9', 'Airline_10', 'Airline_11',\n",
    "       'Source_1', 'Source_2', 'Source_3', 'Source_4', 'Destination_1',\n",
    "       'Destination_2', 'Destination_3', 'Destination_4', 'Destination_5',\n",
    "       'Additional_Info_1', 'Additional_Info_2', 'Additional_Info_3',\n",
    "       'Additional_Info_4', 'Additional_Info_5', 'Additional_Info_6',\n",
    "       'Additional_Info_7', 'Additional_Info_8', 'Additional_Info_9','Price']]"
   ]
  },
  {
   "cell_type": "code",
   "execution_count": 408,
   "id": "30a2499f",
   "metadata": {
    "scrolled": true
   },
   "outputs": [
    {
     "data": {
      "text/html": [
       "<div>\n",
       "<style scoped>\n",
       "    .dataframe tbody tr th:only-of-type {\n",
       "        vertical-align: middle;\n",
       "    }\n",
       "\n",
       "    .dataframe tbody tr th {\n",
       "        vertical-align: top;\n",
       "    }\n",
       "\n",
       "    .dataframe thead th {\n",
       "        text-align: right;\n",
       "    }\n",
       "</style>\n",
       "<table border=\"1\" class=\"dataframe\">\n",
       "  <thead>\n",
       "    <tr style=\"text-align: right;\">\n",
       "      <th></th>\n",
       "      <th>Duration</th>\n",
       "      <th>Total_Stops</th>\n",
       "      <th>Date</th>\n",
       "      <th>Month</th>\n",
       "      <th>Year</th>\n",
       "      <th>Arrival_hour</th>\n",
       "      <th>Arrival_mint</th>\n",
       "      <th>Dept_hours</th>\n",
       "      <th>Dept_mint</th>\n",
       "      <th>Airline_1</th>\n",
       "      <th>...</th>\n",
       "      <th>Additional_Info_1</th>\n",
       "      <th>Additional_Info_2</th>\n",
       "      <th>Additional_Info_3</th>\n",
       "      <th>Additional_Info_4</th>\n",
       "      <th>Additional_Info_5</th>\n",
       "      <th>Additional_Info_6</th>\n",
       "      <th>Additional_Info_7</th>\n",
       "      <th>Additional_Info_8</th>\n",
       "      <th>Additional_Info_9</th>\n",
       "      <th>Price</th>\n",
       "    </tr>\n",
       "  </thead>\n",
       "  <tbody>\n",
       "    <tr>\n",
       "      <th>10683</th>\n",
       "      <td>655</td>\n",
       "      <td>1</td>\n",
       "      <td>6</td>\n",
       "      <td>6</td>\n",
       "      <td>2019</td>\n",
       "      <td>4</td>\n",
       "      <td>25</td>\n",
       "      <td>17</td>\n",
       "      <td>30</td>\n",
       "      <td>0</td>\n",
       "      <td>...</td>\n",
       "      <td>0</td>\n",
       "      <td>0</td>\n",
       "      <td>0</td>\n",
       "      <td>0</td>\n",
       "      <td>0</td>\n",
       "      <td>0</td>\n",
       "      <td>0</td>\n",
       "      <td>1</td>\n",
       "      <td>0</td>\n",
       "      <td>NaN</td>\n",
       "    </tr>\n",
       "    <tr>\n",
       "      <th>10684</th>\n",
       "      <td>240</td>\n",
       "      <td>1</td>\n",
       "      <td>12</td>\n",
       "      <td>5</td>\n",
       "      <td>2019</td>\n",
       "      <td>10</td>\n",
       "      <td>20</td>\n",
       "      <td>6</td>\n",
       "      <td>20</td>\n",
       "      <td>0</td>\n",
       "      <td>...</td>\n",
       "      <td>0</td>\n",
       "      <td>0</td>\n",
       "      <td>0</td>\n",
       "      <td>0</td>\n",
       "      <td>0</td>\n",
       "      <td>0</td>\n",
       "      <td>0</td>\n",
       "      <td>1</td>\n",
       "      <td>0</td>\n",
       "      <td>NaN</td>\n",
       "    </tr>\n",
       "    <tr>\n",
       "      <th>10685</th>\n",
       "      <td>1425</td>\n",
       "      <td>1</td>\n",
       "      <td>21</td>\n",
       "      <td>5</td>\n",
       "      <td>2019</td>\n",
       "      <td>19</td>\n",
       "      <td>0</td>\n",
       "      <td>19</td>\n",
       "      <td>15</td>\n",
       "      <td>0</td>\n",
       "      <td>...</td>\n",
       "      <td>0</td>\n",
       "      <td>0</td>\n",
       "      <td>0</td>\n",
       "      <td>0</td>\n",
       "      <td>1</td>\n",
       "      <td>0</td>\n",
       "      <td>0</td>\n",
       "      <td>0</td>\n",
       "      <td>0</td>\n",
       "      <td>NaN</td>\n",
       "    </tr>\n",
       "  </tbody>\n",
       "</table>\n",
       "<p>3 rows × 39 columns</p>\n",
       "</div>"
      ],
      "text/plain": [
       "       Duration  Total_Stops  Date  Month  Year  Arrival_hour  Arrival_mint  \\\n",
       "10683       655            1     6      6  2019             4            25   \n",
       "10684       240            1    12      5  2019            10            20   \n",
       "10685      1425            1    21      5  2019            19             0   \n",
       "\n",
       "       Dept_hours  Dept_mint  Airline_1  ...  Additional_Info_1  \\\n",
       "10683          17         30          0  ...                  0   \n",
       "10684           6         20          0  ...                  0   \n",
       "10685          19         15          0  ...                  0   \n",
       "\n",
       "       Additional_Info_2  Additional_Info_3  Additional_Info_4  \\\n",
       "10683                  0                  0                  0   \n",
       "10684                  0                  0                  0   \n",
       "10685                  0                  0                  0   \n",
       "\n",
       "       Additional_Info_5  Additional_Info_6  Additional_Info_7  \\\n",
       "10683                  0                  0                  0   \n",
       "10684                  0                  0                  0   \n",
       "10685                  1                  0                  0   \n",
       "\n",
       "       Additional_Info_8  Additional_Info_9  Price  \n",
       "10683                  1                  0    NaN  \n",
       "10684                  1                  0    NaN  \n",
       "10685                  0                  0    NaN  \n",
       "\n",
       "[3 rows x 39 columns]"
      ]
     },
     "execution_count": 408,
     "metadata": {},
     "output_type": "execute_result"
    }
   ],
   "source": [
    "df_cross_val.head(3)"
   ]
  },
  {
   "cell_type": "code",
   "execution_count": 425,
   "id": "ae7571c3",
   "metadata": {},
   "outputs": [],
   "source": [
    "df_cross_val=df_cross_val.iloc[:,:-1]"
   ]
  },
  {
   "cell_type": "code",
   "execution_count": 412,
   "id": "4d2a598a",
   "metadata": {},
   "outputs": [
    {
     "data": {
      "text/plain": [
       "Index(['Duration', 'Total_Stops', 'Price', 'Date', 'Month', 'Year',\n",
       "       'Arrival_hour', 'Arrival_mint', 'Dept_hours', 'Dept_mint', 'Airline_1',\n",
       "       'Airline_2', 'Airline_3', 'Airline_4', 'Airline_5', 'Airline_6',\n",
       "       'Airline_7', 'Airline_8', 'Airline_9', 'Airline_10', 'Airline_11',\n",
       "       'Source_1', 'Source_2', 'Source_3', 'Source_4', 'Destination_1',\n",
       "       'Destination_2', 'Destination_3', 'Destination_4', 'Destination_5',\n",
       "       'Additional_Info_1', 'Additional_Info_2', 'Additional_Info_3',\n",
       "       'Additional_Info_4', 'Additional_Info_5', 'Additional_Info_6',\n",
       "       'Additional_Info_7', 'Additional_Info_8', 'Additional_Info_9'],\n",
       "      dtype='object')"
      ]
     },
     "execution_count": 412,
     "metadata": {},
     "output_type": "execute_result"
    }
   ],
   "source": [
    "df.columns"
   ]
  },
  {
   "cell_type": "code",
   "execution_count": 414,
   "id": "f8335dd0",
   "metadata": {},
   "outputs": [],
   "source": [
    "df=df[['Duration', 'Total_Stops', 'Date', 'Month', 'Year',\n",
    "       'Arrival_hour', 'Arrival_mint', 'Dept_hours', 'Dept_mint', 'Airline_1',\n",
    "       'Airline_2', 'Airline_3', 'Airline_4', 'Airline_5', 'Airline_6',\n",
    "       'Airline_7', 'Airline_8', 'Airline_9', 'Airline_10', 'Airline_11',\n",
    "       'Source_1', 'Source_2', 'Source_3', 'Source_4', 'Destination_1',\n",
    "       'Destination_2', 'Destination_3', 'Destination_4', 'Destination_5',\n",
    "       'Additional_Info_1', 'Additional_Info_2', 'Additional_Info_3',\n",
    "       'Additional_Info_4', 'Additional_Info_5', 'Additional_Info_6',\n",
    "       'Additional_Info_7', 'Additional_Info_8', 'Additional_Info_9','Price']]"
   ]
  },
  {
   "cell_type": "code",
   "execution_count": 409,
   "id": "d5d59b53",
   "metadata": {},
   "outputs": [],
   "source": [
    "from sklearn.model_selection import train_test_split"
   ]
  },
  {
   "cell_type": "code",
   "execution_count": 416,
   "id": "2d6566b5",
   "metadata": {},
   "outputs": [
    {
     "data": {
      "text/html": [
       "<div>\n",
       "<style scoped>\n",
       "    .dataframe tbody tr th:only-of-type {\n",
       "        vertical-align: middle;\n",
       "    }\n",
       "\n",
       "    .dataframe tbody tr th {\n",
       "        vertical-align: top;\n",
       "    }\n",
       "\n",
       "    .dataframe thead th {\n",
       "        text-align: right;\n",
       "    }\n",
       "</style>\n",
       "<table border=\"1\" class=\"dataframe\">\n",
       "  <thead>\n",
       "    <tr style=\"text-align: right;\">\n",
       "      <th></th>\n",
       "      <th>Price</th>\n",
       "    </tr>\n",
       "  </thead>\n",
       "  <tbody>\n",
       "    <tr>\n",
       "      <th>0</th>\n",
       "      <td>3897.0</td>\n",
       "    </tr>\n",
       "    <tr>\n",
       "      <th>1</th>\n",
       "      <td>7662.0</td>\n",
       "    </tr>\n",
       "    <tr>\n",
       "      <th>2</th>\n",
       "      <td>13882.0</td>\n",
       "    </tr>\n",
       "    <tr>\n",
       "      <th>3</th>\n",
       "      <td>6218.0</td>\n",
       "    </tr>\n",
       "    <tr>\n",
       "      <th>4</th>\n",
       "      <td>13302.0</td>\n",
       "    </tr>\n",
       "    <tr>\n",
       "      <th>...</th>\n",
       "      <td>...</td>\n",
       "    </tr>\n",
       "    <tr>\n",
       "      <th>10678</th>\n",
       "      <td>4107.0</td>\n",
       "    </tr>\n",
       "    <tr>\n",
       "      <th>10679</th>\n",
       "      <td>4145.0</td>\n",
       "    </tr>\n",
       "    <tr>\n",
       "      <th>10680</th>\n",
       "      <td>7229.0</td>\n",
       "    </tr>\n",
       "    <tr>\n",
       "      <th>10681</th>\n",
       "      <td>12648.0</td>\n",
       "    </tr>\n",
       "    <tr>\n",
       "      <th>10682</th>\n",
       "      <td>11753.0</td>\n",
       "    </tr>\n",
       "  </tbody>\n",
       "</table>\n",
       "<p>10681 rows × 1 columns</p>\n",
       "</div>"
      ],
      "text/plain": [
       "         Price\n",
       "0       3897.0\n",
       "1       7662.0\n",
       "2      13882.0\n",
       "3       6218.0\n",
       "4      13302.0\n",
       "...        ...\n",
       "10678   4107.0\n",
       "10679   4145.0\n",
       "10680   7229.0\n",
       "10681  12648.0\n",
       "10682  11753.0\n",
       "\n",
       "[10681 rows x 1 columns]"
      ]
     },
     "execution_count": 416,
     "metadata": {},
     "output_type": "execute_result"
    }
   ],
   "source": [
    "df.iloc[:,-1:]"
   ]
  },
  {
   "cell_type": "code",
   "execution_count": 417,
   "id": "3086191f",
   "metadata": {},
   "outputs": [],
   "source": [
    "X_train,X_test,y_train,y_test=train_test_split(df.iloc[:,:-1],df.iloc[:,-1:],test_size=0.3)"
   ]
  },
  {
   "cell_type": "code",
   "execution_count": 419,
   "id": "1ff42881",
   "metadata": {},
   "outputs": [
    {
     "data": {
      "text/plain": [
       "(7476, 38)"
      ]
     },
     "execution_count": 419,
     "metadata": {},
     "output_type": "execute_result"
    }
   ],
   "source": [
    "X_train.shape"
   ]
  },
  {
   "cell_type": "code",
   "execution_count": 420,
   "id": "96ca5cac",
   "metadata": {},
   "outputs": [
    {
     "data": {
      "text/plain": [
       "(3205, 38)"
      ]
     },
     "execution_count": 420,
     "metadata": {},
     "output_type": "execute_result"
    }
   ],
   "source": [
    "X_test.shape"
   ]
  },
  {
   "cell_type": "code",
   "execution_count": 421,
   "id": "ef771c55",
   "metadata": {},
   "outputs": [
    {
     "data": {
      "text/plain": [
       "(7476, 1)"
      ]
     },
     "execution_count": 421,
     "metadata": {},
     "output_type": "execute_result"
    }
   ],
   "source": [
    "y_train.shape"
   ]
  },
  {
   "cell_type": "code",
   "execution_count": 422,
   "id": "b63e4438",
   "metadata": {},
   "outputs": [
    {
     "data": {
      "text/plain": [
       "(3205, 1)"
      ]
     },
     "execution_count": 422,
     "metadata": {},
     "output_type": "execute_result"
    }
   ],
   "source": [
    "y_test.shape"
   ]
  },
  {
   "cell_type": "code",
   "execution_count": 426,
   "id": "6b1e4460",
   "metadata": {},
   "outputs": [
    {
     "data": {
      "text/plain": [
       "(2671, 38)"
      ]
     },
     "execution_count": 426,
     "metadata": {},
     "output_type": "execute_result"
    }
   ],
   "source": [
    "df_cross_val.shape"
   ]
  },
  {
   "cell_type": "markdown",
   "id": "368f156c",
   "metadata": {},
   "source": [
    "##### Ready to feed model"
   ]
  }
 ],
 "metadata": {
  "kernelspec": {
   "display_name": "Python 3 (ipykernel)",
   "language": "python",
   "name": "python3"
  },
  "language_info": {
   "codemirror_mode": {
    "name": "ipython",
    "version": 3
   },
   "file_extension": ".py",
   "mimetype": "text/x-python",
   "name": "python",
   "nbconvert_exporter": "python",
   "pygments_lexer": "ipython3",
   "version": "3.9.5"
  }
 },
 "nbformat": 4,
 "nbformat_minor": 5
}
